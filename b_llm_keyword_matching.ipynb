{
 "cells": [
  {
   "cell_type": "markdown",
   "metadata": {},
   "source": [
    "# Forecasting AI and ML Job Trends with SARIMA\n",
    "\n",
    "Here, we filter out AI/ML/DS jobs using a Large Language Model (LLM)\n",
    "\n",
    "**NB**: The cleaned dataset contains 1.2 million job postings. It is beyond the quota limits provided by most LLMS to analyse all these postings at one go. Hence this is just for evaluation and the results of this noebook are not used further in the data processing pipeline\n",
    "\n",
    "LLM in use: **Gemini**"
   ]
  },
  {
   "cell_type": "markdown",
   "metadata": {},
   "source": [
    "## Dependencies"
   ]
  },
  {
   "cell_type": "code",
   "execution_count": 96,
   "metadata": {},
   "outputs": [],
   "source": [
    "import os\n",
    "import sys\n",
    "import traceback\n",
    "import time\n",
    "import re\n",
    "from dotenv import load_dotenv\n",
    "import json\n",
    "from functools import wraps\n",
    "import os\n",
    "from datetime import datetime\n",
    "import glob\n",
    "import pandas as pd\n",
    "import numpy as np\n",
    "import matplotlib.pyplot as plt\n",
    "\n",
    "import google.generativeai as genai\n",
    "from tenacity import (\n",
    "    retry,\n",
    "    stop_after_attempt, \n",
    "    wait_exponential,\n",
    "    retry_if_exception_type\n",
    ")\n",
    "from google.api_core.exceptions import ResourceExhausted\n"
   ]
  },
  {
   "cell_type": "markdown",
   "metadata": {},
   "source": [
    "## Data Loading"
   ]
  },
  {
   "cell_type": "markdown",
   "metadata": {},
   "source": [
    "Load Environment variables (Includes Gemini API key)"
   ]
  },
  {
   "cell_type": "code",
   "execution_count": 62,
   "metadata": {},
   "outputs": [
    {
     "data": {
      "text/plain": [
       "True"
      ]
     },
     "execution_count": 62,
     "metadata": {},
     "output_type": "execute_result"
    }
   ],
   "source": [
    "load_dotenv()"
   ]
  },
  {
   "cell_type": "code",
   "execution_count": 63,
   "metadata": {},
   "outputs": [],
   "source": [
    "filename = \"data/job_postings_normalized.parquet\"\n",
    "job_postings = pd.read_parquet(filename)"
   ]
  },
  {
   "cell_type": "code",
   "execution_count": 64,
   "metadata": {},
   "outputs": [
    {
     "name": "stdout",
     "output_type": "stream",
     "text": [
      "1,296,381 job postings loaded from data/job_postings_normalized.parquet\n"
     ]
    },
    {
     "data": {
      "text/html": [
       "<div>\n",
       "<style scoped>\n",
       "    .dataframe tbody tr th:only-of-type {\n",
       "        vertical-align: middle;\n",
       "    }\n",
       "\n",
       "    .dataframe tbody tr th {\n",
       "        vertical-align: top;\n",
       "    }\n",
       "\n",
       "    .dataframe thead th {\n",
       "        text-align: right;\n",
       "    }\n",
       "</style>\n",
       "<table border=\"1\" class=\"dataframe\">\n",
       "  <thead>\n",
       "    <tr style=\"text-align: right;\">\n",
       "      <th></th>\n",
       "      <th>last_processed_time</th>\n",
       "      <th>got_summary</th>\n",
       "      <th>got_ner</th>\n",
       "      <th>is_being_worked</th>\n",
       "      <th>job_title</th>\n",
       "      <th>company</th>\n",
       "      <th>job_location</th>\n",
       "      <th>first_seen</th>\n",
       "      <th>search_city</th>\n",
       "      <th>search_country</th>\n",
       "      <th>search_position</th>\n",
       "      <th>job_level</th>\n",
       "      <th>job_type</th>\n",
       "      <th>job_skills</th>\n",
       "      <th>skills_count</th>\n",
       "    </tr>\n",
       "  </thead>\n",
       "  <tbody>\n",
       "    <tr>\n",
       "      <th>893895</th>\n",
       "      <td>2024-01-21 13:15:55.907921+00</td>\n",
       "      <td>t</td>\n",
       "      <td>t</td>\n",
       "      <td>f</td>\n",
       "      <td>med surg/telemetry rn (days or nights) at maxi...</td>\n",
       "      <td>health ecareers</td>\n",
       "      <td>weymouth, ma</td>\n",
       "      <td>2024-01-14</td>\n",
       "      <td>duxbury</td>\n",
       "      <td>united states</td>\n",
       "      <td>companion</td>\n",
       "      <td>mid senior</td>\n",
       "      <td>onsite</td>\n",
       "      <td>[med surg, telemetry rn, epic, bls, acls, nurs...</td>\n",
       "      <td>8</td>\n",
       "    </tr>\n",
       "    <tr>\n",
       "      <th>905060</th>\n",
       "      <td>2024-01-20 08:22:17.049131+00</td>\n",
       "      <td>t</td>\n",
       "      <td>t</td>\n",
       "      <td>f</td>\n",
       "      <td>rn homecare</td>\n",
       "      <td>maxim healthcare services (home care)</td>\n",
       "      <td>millstadt, il</td>\n",
       "      <td>2024-01-14</td>\n",
       "      <td>illinois</td>\n",
       "      <td>united states</td>\n",
       "      <td>companion</td>\n",
       "      <td>mid senior</td>\n",
       "      <td>onsite</td>\n",
       "      <td>[registered nurse (rn) license, health certifi...</td>\n",
       "      <td>24</td>\n",
       "    </tr>\n",
       "    <tr>\n",
       "      <th>681021</th>\n",
       "      <td>2024-01-19 09:45:09.215838+00</td>\n",
       "      <td>t</td>\n",
       "      <td>t</td>\n",
       "      <td>f</td>\n",
       "      <td>duty pharmacy manager - exmouth p/t</td>\n",
       "      <td>tesco</td>\n",
       "      <td>exmouth, england, united kingdom</td>\n",
       "      <td>2024-01-13</td>\n",
       "      <td>exeter</td>\n",
       "      <td>united kingdom</td>\n",
       "      <td>pharmacist</td>\n",
       "      <td>mid senior</td>\n",
       "      <td>onsite</td>\n",
       "      <td>[pharmacy degree, leadership, gphc membership,...</td>\n",
       "      <td>13</td>\n",
       "    </tr>\n",
       "    <tr>\n",
       "      <th>1025372</th>\n",
       "      <td>2024-01-21 16:23:17.594102+00</td>\n",
       "      <td>t</td>\n",
       "      <td>t</td>\n",
       "      <td>f</td>\n",
       "      <td>senior propulsion controls engineer</td>\n",
       "      <td>nikola corporation</td>\n",
       "      <td>phoenix, az</td>\n",
       "      <td>2024-01-14</td>\n",
       "      <td>peoria</td>\n",
       "      <td>united states</td>\n",
       "      <td>controls designer</td>\n",
       "      <td>mid senior</td>\n",
       "      <td>onsite</td>\n",
       "      <td>[matlab/simulink, control software development...</td>\n",
       "      <td>27</td>\n",
       "    </tr>\n",
       "    <tr>\n",
       "      <th>702524</th>\n",
       "      <td>2024-01-19 09:45:09.215838+00</td>\n",
       "      <td>t</td>\n",
       "      <td>t</td>\n",
       "      <td>f</td>\n",
       "      <td>cable installer</td>\n",
       "      <td>jobs for humanity</td>\n",
       "      <td>marysville, oh</td>\n",
       "      <td>2024-01-13</td>\n",
       "      <td>ohio</td>\n",
       "      <td>united states</td>\n",
       "      <td>installer</td>\n",
       "      <td>mid senior</td>\n",
       "      <td>onsite</td>\n",
       "      <td>[aptitude, communication, customer service, el...</td>\n",
       "      <td>16</td>\n",
       "    </tr>\n",
       "  </tbody>\n",
       "</table>\n",
       "</div>"
      ],
      "text/plain": [
       "                   last_processed_time got_summary got_ner is_being_worked  \\\n",
       "893895   2024-01-21 13:15:55.907921+00           t       t               f   \n",
       "905060   2024-01-20 08:22:17.049131+00           t       t               f   \n",
       "681021   2024-01-19 09:45:09.215838+00           t       t               f   \n",
       "1025372  2024-01-21 16:23:17.594102+00           t       t               f   \n",
       "702524   2024-01-19 09:45:09.215838+00           t       t               f   \n",
       "\n",
       "                                                 job_title  \\\n",
       "893895   med surg/telemetry rn (days or nights) at maxi...   \n",
       "905060                                         rn homecare   \n",
       "681021                 duty pharmacy manager - exmouth p/t   \n",
       "1025372                senior propulsion controls engineer   \n",
       "702524                                     cable installer   \n",
       "\n",
       "                                       company  \\\n",
       "893895                         health ecareers   \n",
       "905060   maxim healthcare services (home care)   \n",
       "681021                                   tesco   \n",
       "1025372                     nikola corporation   \n",
       "702524                       jobs for humanity   \n",
       "\n",
       "                             job_location  first_seen search_city  \\\n",
       "893895                       weymouth, ma  2024-01-14     duxbury   \n",
       "905060                      millstadt, il  2024-01-14    illinois   \n",
       "681021   exmouth, england, united kingdom  2024-01-13      exeter   \n",
       "1025372                       phoenix, az  2024-01-14      peoria   \n",
       "702524                     marysville, oh  2024-01-13        ohio   \n",
       "\n",
       "         search_country    search_position   job_level job_type  \\\n",
       "893895    united states          companion  mid senior   onsite   \n",
       "905060    united states          companion  mid senior   onsite   \n",
       "681021   united kingdom         pharmacist  mid senior   onsite   \n",
       "1025372   united states  controls designer  mid senior   onsite   \n",
       "702524    united states          installer  mid senior   onsite   \n",
       "\n",
       "                                                job_skills  skills_count  \n",
       "893895   [med surg, telemetry rn, epic, bls, acls, nurs...             8  \n",
       "905060   [registered nurse (rn) license, health certifi...            24  \n",
       "681021   [pharmacy degree, leadership, gphc membership,...            13  \n",
       "1025372  [matlab/simulink, control software development...            27  \n",
       "702524   [aptitude, communication, customer service, el...            16  "
      ]
     },
     "execution_count": 64,
     "metadata": {},
     "output_type": "execute_result"
    }
   ],
   "source": [
    "print(f\"{len(job_postings):,} job postings loaded from {filename}\")\n",
    "job_postings.sample(5)"
   ]
  },
  {
   "cell_type": "markdown",
   "metadata": {},
   "source": [
    "## Rate Limiter Set up"
   ]
  },
  {
   "cell_type": "code",
   "execution_count": 89,
   "metadata": {},
   "outputs": [],
   "source": [
    "class QuotaTracker:\n",
    "    def __init__(self, rpm_limit=14, daily_limit=1400):\n",
    "        self.rpm_limit = rpm_limit\n",
    "        self.daily_limit = daily_limit\n",
    "        self.state_file = \"data/llm/config/quota_state.json\"\n",
    "        os.makedirs(os.path.dirname(self.state_file), exist_ok=True)\n",
    "        self.load_state()\n",
    "        \n",
    "    def load_state(self):\n",
    "        if os.path.exists(self.state_file):\n",
    "            with open(self.state_file, 'r') as f:\n",
    "                state = json.load(f)\n",
    "                # Convert ISO strings to timestamps\n",
    "                self.minute_calls = [\n",
    "                    datetime.fromisoformat(ts).timestamp() \n",
    "                    for ts in state.get('minute_calls', [])\n",
    "                ]\n",
    "                self.daily_calls = [\n",
    "                    datetime.fromisoformat(ts).timestamp() \n",
    "                    for ts in state.get('daily_calls', [])\n",
    "                ]\n",
    "        else:\n",
    "            self.minute_calls = []\n",
    "            self.daily_calls = []\n",
    "    \n",
    "    def save_state(self):\n",
    "        state = {\n",
    "            'minute_calls': [\n",
    "                datetime.fromtimestamp(ts).isoformat() \n",
    "                for ts in self.minute_calls\n",
    "            ],\n",
    "            'daily_calls': [\n",
    "                datetime.fromtimestamp(ts).isoformat() \n",
    "                for ts in self.daily_calls\n",
    "            ]\n",
    "        }\n",
    "        with open(self.state_file, 'w') as f:\n",
    "            json.dump(state, f)\n",
    "    \n",
    "    def check_quota(self):\n",
    "        now = datetime.now().timestamp()\n",
    "        \n",
    "        # Clean old timestamps\n",
    "        minute_ago = now - 60\n",
    "        day_ago = now - 86400\n",
    "        \n",
    "        self.minute_calls = [ts for ts in self.minute_calls if ts > minute_ago]\n",
    "        self.daily_calls = [ts for ts in self.daily_calls if ts > day_ago]\n",
    "        \n",
    "        if len(self.minute_calls) >= self.rpm_limit:\n",
    "            wait_time = 61 - (now - min(self.minute_calls))\n",
    "            print(f\"Rate limit: {len(self.minute_calls)}/{self.rpm_limit} requests this minute\")\n",
    "            return False, int(wait_time)\n",
    "        \n",
    "        if len(self.daily_calls) >= self.daily_limit:\n",
    "            wait_time = 86400 - (now - min(self.daily_calls))\n",
    "            print(f\"Daily limit: {len(self.daily_calls)}/{self.daily_limit} requests today\")\n",
    "            return False, int(wait_time)\n",
    "            \n",
    "        return True, 0\n",
    "    \n",
    "    def add_call(self):\n",
    "        now = datetime.now().timestamp()\n",
    "        self.minute_calls.append(now)\n",
    "        self.daily_calls.append(now)\n",
    "        self.save_state()"
   ]
  },
  {
   "cell_type": "markdown",
   "metadata": {},
   "source": [
    "## Model Set up"
   ]
  },
  {
   "cell_type": "markdown",
   "metadata": {},
   "source": [
    "Set up Gemini LLM Model"
   ]
  },
  {
   "cell_type": "code",
   "execution_count": 90,
   "metadata": {},
   "outputs": [
    {
     "name": "stdout",
     "output_type": "stream",
     "text": [
      "LLM model loaded successfully: `models/gemini-1.5-flash`\n"
     ]
    }
   ],
   "source": [
    "def get_llm_model():\n",
    "    gemini_api_key = os.getenv('GEMINI_API_KEY')\n",
    "\n",
    "    if not gemini_api_key:\n",
    "        raise ValueError(\"Please set the GEMINI_API_KEY environment variable\")\n",
    "\n",
    "    genai.configure(api_key=gemini_api_key)\n",
    "    model = genai.GenerativeModel(\"gemini-1.5-flash\")\n",
    "    \n",
    "    print(f\"LLM model loaded successfully: `{model.model_name}`\")\n",
    "\n",
    "    return model\n",
    "\n",
    "llm = get_llm_model()"
   ]
  },
  {
   "cell_type": "markdown",
   "metadata": {},
   "source": [
    "Construct a proper prompt to use"
   ]
  },
  {
   "cell_type": "code",
   "execution_count": 91,
   "metadata": {},
   "outputs": [],
   "source": [
    "def construct_prompt(job_description):\n",
    "    return f\"\"\"\n",
    "        Does this job description indicate skills related to Artificial Intelligence, Machine Learning, \n",
    "        or Data Science, including techniques like deep learning, computer vision, natural language processing,\n",
    "        predictive modeling, or data analysis, and tools/frameworks such as TensorFlow, PyTorch, or scikit-learn? \n",
    "        \n",
    "        Job Description: {job_description}\n",
    "        \n",
    "        Return response in this exact JSON format:\n",
    "        {{\n",
    "            \"likelihood\": <number 0-10>,\n",
    "            \"reason\": \"<concise explanation>\"\n",
    "        }}\n",
    "        \"\"\""
   ]
  },
  {
   "cell_type": "markdown",
   "metadata": {},
   "source": [
    "Utility to assign likelihood for job postings using gemini\n",
    "- Incliudes retry logic for Gemini API rate limits."
   ]
  },
  {
   "cell_type": "code",
   "execution_count": 92,
   "metadata": {},
   "outputs": [],
   "source": [
    "@rate_limited\n",
    "def classify_with_gemini(model, job_description):\n",
    "    try:\n",
    "        prompt = construct_prompt(job_description)\n",
    "        response = model.generate_content(prompt)\n",
    "\n",
    "        json_match = re.search(r\"```json\\n(.*?)\\n```\", response.text, re.DOTALL)\n",
    "        if json_match:\n",
    "            result = json.loads(json_match.group(1))\n",
    "            return result[\"likelihood\"], result[\"reason\"]\n",
    "        else:\n",
    "            print(f\"Could not find JSON in response: {response.text}\")\n",
    "            return -1, \"Failed to extract JSON from response\"\n",
    "        \n",
    "    except ResourceExhausted as e:\n",
    "        print(f\"Hit API quota limit: {e}\")\n",
    "        sys.exit(1)  # Exit gracefully on quota exhaustion\n",
    "    except Exception as e:\n",
    "        print(f\"Error: {e}\")\n",
    "        print(traceback.format_exc())\n",
    "        return -1, str(e)"
   ]
  },
  {
   "cell_type": "markdown",
   "metadata": {},
   "source": [
    "## Likelihood Assignment using LLM"
   ]
  },
  {
   "cell_type": "markdown",
   "metadata": {},
   "source": [
    "Classify jobs using LLM in batches with checkpointing."
   ]
  },
  {
   "cell_type": "code",
   "execution_count": 93,
   "metadata": {},
   "outputs": [],
   "source": [
    "def get_chunk_files(checkpoint_dir):\n",
    "    \"\"\"Get list of existing chunk files sorted by chunk number.\"\"\"\n",
    "    import glob\n",
    "    chunk_files = glob.glob(f\"{checkpoint_dir}/chunk_*.parquet\")\n",
    "    return sorted(chunk_files)\n",
    "\n",
    "def get_next_chunk_number(checkpoint_dir):\n",
    "    \"\"\"Determine next chunk number to process.\"\"\"\n",
    "    chunk_files = get_chunk_files(checkpoint_dir)\n",
    "    if not chunk_files:\n",
    "        return 0\n",
    "    last_chunk = chunk_files[-1]\n",
    "    return int(last_chunk.split('_')[-1].split('.')[0]) + 1"
   ]
  },
  {
   "cell_type": "markdown",
   "metadata": {},
   "source": [
    "Process jobs in batches, saving each as separate chunk file."
   ]
  },
  {
   "cell_type": "code",
   "execution_count": 94,
   "metadata": {},
   "outputs": [],
   "source": [
    "def classify_jobs_with_llm(df, model, checkpoint_dir, batch_size):\n",
    "    \n",
    "    os.makedirs(checkpoint_dir, exist_ok=True)\n",
    "    \n",
    "    # Determine starting point\n",
    "    chunk_number = get_next_chunk_number(checkpoint_dir)\n",
    "    start_index = chunk_number * batch_size\n",
    "    \n",
    "    if start_index >= len(df):\n",
    "        print(\"All chunks processed\")\n",
    "        return pd.concat([pd.read_parquet(f) for f in get_chunk_files(checkpoint_dir)])\n",
    "        \n",
    "    print(f\"Starting from chunk {chunk_number} (index {start_index})\")\n",
    "    \n",
    "    try:\n",
    "        for i in range(start_index, len(df), batch_size):\n",
    "            # Process batch\n",
    "            batch = df.iloc[i:i+batch_size].copy()\n",
    "            batch['gemini_likelihood'] = 0\n",
    "            batch['gemini_reason'] = \"\"\n",
    "            \n",
    "            for index, row in batch.iterrows():\n",
    "                skills_str = \", \".join(row['job_skills'])\n",
    "                job_desc = f\"{row['job_title']} {row['search_position']} {row['company']} {skills_str}\"\n",
    "                likelihood, reason = classify_with_gemini(model, job_desc)\n",
    "                \n",
    "                batch.loc[index, 'gemini_likelihood'] = likelihood\n",
    "                batch.loc[index, 'gemini_reason'] = reason\n",
    "                \n",
    "                # print(f\"Processed job {index}\")\n",
    "            \n",
    "            # Save chunk\n",
    "            chunk_file = f\"{checkpoint_dir}/chunk_{chunk_number:04d}.parquet\"\n",
    "            batch.to_parquet(chunk_file)\n",
    "            print(f\"Saved chunk {chunk_number}\")\n",
    "            chunk_number += 1\n",
    "            \n",
    "        # Combine all chunks\n",
    "        combined_chunk_files = pd.concat([pd.read_parquet(f) for f in get_chunk_files(checkpoint_dir)])\n",
    "        print(f\"Processed {len(combined_chunk_files):,} jobs\")\n",
    "        \n",
    "        return pd.concat([pd.read_parquet(f) for f in get_chunk_files(checkpoint_dir)])\n",
    "        \n",
    "    except Exception as e:\n",
    "        print(f\"Error processing chunk {chunk_number}: {e}\")\n",
    "        return None"
   ]
  },
  {
   "cell_type": "code",
   "execution_count": null,
   "metadata": {},
   "outputs": [],
   "source": [
    "checkpoint_dir = \"data/llm/chunks\"\n",
    "os.makedirs(checkpoint_dir, exist_ok=True)\n",
    "\n",
    "classify_jobs_with_llm(\n",
    "    job_postings,\n",
    "    llm,\n",
    "    checkpoint_dir=checkpoint_dir,\n",
    "    batch_size=10,\n",
    ")\n",
    "\n",
    "print(\"All job postings classified with LLM\")"
   ]
  },
  {
   "cell_type": "markdown",
   "metadata": {},
   "source": [
    "## LLM Classification review"
   ]
  },
  {
   "cell_type": "markdown",
   "metadata": {},
   "source": [
    "Load and combine all processed chunks into single DataFrame"
   ]
  },
  {
   "cell_type": "code",
   "execution_count": 97,
   "metadata": {},
   "outputs": [],
   "source": [
    "def load_processed_chunks(checkpoint_dir='data/llm/chunks'):\n",
    "    try:\n",
    "        # Ensure directory exists\n",
    "        if not os.path.exists(checkpoint_dir):\n",
    "            raise FileNotFoundError(f\"Checkpoint directory not found: {checkpoint_dir}\")\n",
    "            \n",
    "        # Get all chunk files sorted numerically\n",
    "        chunk_files = sorted(\n",
    "            glob.glob(f\"{checkpoint_dir}/chunk_*.parquet\"),\n",
    "            key=lambda x: int(x.split('_')[-1].split('.')[0])\n",
    "        )\n",
    "        \n",
    "        if not chunk_files:\n",
    "            raise FileNotFoundError(\"No chunk files found\")\n",
    "            \n",
    "        # Load and concatenate all chunks\n",
    "        chunks = []\n",
    "        for file in chunk_files:\n",
    "            chunk = pd.read_parquet(file)\n",
    "            chunks.append(chunk)\n",
    "            \n",
    "        # Combine all chunks\n",
    "        combined_df = pd.concat(chunks, axis=0)\n",
    "        print(f\"Loaded {len(chunk_files)} chunks with {len(combined_df)} total records\")\n",
    "        \n",
    "        return combined_df\n",
    "        \n",
    "    except Exception as e:\n",
    "        print(f\"Error loading chunks: {e}\")\n",
    "        return None"
   ]
  },
  {
   "cell_type": "code",
   "execution_count": 98,
   "metadata": {},
   "outputs": [
    {
     "name": "stdout",
     "output_type": "stream",
     "text": [
      "Loaded 99 chunks with 990 total records\n"
     ]
    }
   ],
   "source": [
    "processed_chubks = load_processed_chunks()"
   ]
  },
  {
   "cell_type": "code",
   "execution_count": 99,
   "metadata": {},
   "outputs": [
    {
     "data": {
      "text/html": [
       "<div>\n",
       "<style scoped>\n",
       "    .dataframe tbody tr th:only-of-type {\n",
       "        vertical-align: middle;\n",
       "    }\n",
       "\n",
       "    .dataframe tbody tr th {\n",
       "        vertical-align: top;\n",
       "    }\n",
       "\n",
       "    .dataframe thead th {\n",
       "        text-align: right;\n",
       "    }\n",
       "</style>\n",
       "<table border=\"1\" class=\"dataframe\">\n",
       "  <thead>\n",
       "    <tr style=\"text-align: right;\">\n",
       "      <th></th>\n",
       "      <th>last_processed_time</th>\n",
       "      <th>got_summary</th>\n",
       "      <th>got_ner</th>\n",
       "      <th>is_being_worked</th>\n",
       "      <th>job_title</th>\n",
       "      <th>company</th>\n",
       "      <th>job_location</th>\n",
       "      <th>first_seen</th>\n",
       "      <th>search_city</th>\n",
       "      <th>search_country</th>\n",
       "      <th>search_position</th>\n",
       "      <th>job_level</th>\n",
       "      <th>job_type</th>\n",
       "      <th>job_skills</th>\n",
       "      <th>skills_count</th>\n",
       "      <th>gemini_likelihood</th>\n",
       "      <th>gemini_reason</th>\n",
       "    </tr>\n",
       "  </thead>\n",
       "  <tbody>\n",
       "    <tr>\n",
       "      <th>863</th>\n",
       "      <td>2024-01-21 08:08:47.40795+00</td>\n",
       "      <td>t</td>\n",
       "      <td>t</td>\n",
       "      <td>f</td>\n",
       "      <td>sr category manager, capex</td>\n",
       "      <td>cps, inc.</td>\n",
       "      <td>dayton, il</td>\n",
       "      <td>2024-01-14</td>\n",
       "      <td>sheridan</td>\n",
       "      <td>united states</td>\n",
       "      <td>buyer</td>\n",
       "      <td>mid senior</td>\n",
       "      <td>onsite</td>\n",
       "      <td>[strategic development, procurement oversight,...</td>\n",
       "      <td>11</td>\n",
       "      <td>1</td>\n",
       "      <td>The job description focuses on procurement, ca...</td>\n",
       "    </tr>\n",
       "    <tr>\n",
       "      <th>378</th>\n",
       "      <td>2024-01-20 13:46:15.66326+00</td>\n",
       "      <td>t</td>\n",
       "      <td>t</td>\n",
       "      <td>f</td>\n",
       "      <td>sous chef - culinary</td>\n",
       "      <td>reynolds lake oconee</td>\n",
       "      <td>greensboro, ga</td>\n",
       "      <td>2024-01-15</td>\n",
       "      <td>georgia</td>\n",
       "      <td>united states</td>\n",
       "      <td>butcher apprentice</td>\n",
       "      <td>mid senior</td>\n",
       "      <td>onsite</td>\n",
       "      <td>[leadership, training, motivation, serve safe ...</td>\n",
       "      <td>8</td>\n",
       "      <td>0</td>\n",
       "      <td>The job description is for a culinary position...</td>\n",
       "    </tr>\n",
       "    <tr>\n",
       "      <th>616</th>\n",
       "      <td>2024-01-19 15:57:45.5226+00</td>\n",
       "      <td>t</td>\n",
       "      <td>t</td>\n",
       "      <td>f</td>\n",
       "      <td>travel icu rn job in pleasant prairie, wi - ma...</td>\n",
       "      <td>aya healthcare</td>\n",
       "      <td>pleasant prairie, wi</td>\n",
       "      <td>2024-01-14</td>\n",
       "      <td>newport</td>\n",
       "      <td>united states</td>\n",
       "      <td>recruiter</td>\n",
       "      <td>mid senior</td>\n",
       "      <td>onsite</td>\n",
       "      <td>[icu, registered nurse, 1+ year experience, ni...</td>\n",
       "      <td>19</td>\n",
       "      <td>0</td>\n",
       "      <td>The job description is for an ICU Registered N...</td>\n",
       "    </tr>\n",
       "    <tr>\n",
       "      <th>330</th>\n",
       "      <td>2024-01-21 07:12:53.311726+00</td>\n",
       "      <td>t</td>\n",
       "      <td>t</td>\n",
       "      <td>f</td>\n",
       "      <td>rn- hospice at ssm health</td>\n",
       "      <td>health ecareers</td>\n",
       "      <td>st louis, mo</td>\n",
       "      <td>2024-01-16</td>\n",
       "      <td>ferguson</td>\n",
       "      <td>united states</td>\n",
       "      <td>pattern hand</td>\n",
       "      <td>mid senior</td>\n",
       "      <td>onsite</td>\n",
       "      <td>[nursing, medical assessment, care planning, p...</td>\n",
       "      <td>20</td>\n",
       "      <td>1</td>\n",
       "      <td>The job description focuses on nursing skills ...</td>\n",
       "    </tr>\n",
       "    <tr>\n",
       "      <th>777</th>\n",
       "      <td>2024-01-21 08:08:31.941595+00</td>\n",
       "      <td>t</td>\n",
       "      <td>t</td>\n",
       "      <td>f</td>\n",
       "      <td>senior etl data warehouse specialist</td>\n",
       "      <td>adame services llc</td>\n",
       "      <td>new york, ny</td>\n",
       "      <td>2024-01-14</td>\n",
       "      <td>middletown</td>\n",
       "      <td>united states</td>\n",
       "      <td>technical support specialist</td>\n",
       "      <td>associate</td>\n",
       "      <td>onsite</td>\n",
       "      <td>[etl, data integration, data transformation, d...</td>\n",
       "      <td>27</td>\n",
       "      <td>3</td>\n",
       "      <td>The job description focuses heavily on ETL (Ex...</td>\n",
       "    </tr>\n",
       "  </tbody>\n",
       "</table>\n",
       "</div>"
      ],
      "text/plain": [
       "               last_processed_time got_summary got_ner is_being_worked  \\\n",
       "863   2024-01-21 08:08:47.40795+00           t       t               f   \n",
       "378   2024-01-20 13:46:15.66326+00           t       t               f   \n",
       "616    2024-01-19 15:57:45.5226+00           t       t               f   \n",
       "330  2024-01-21 07:12:53.311726+00           t       t               f   \n",
       "777  2024-01-21 08:08:31.941595+00           t       t               f   \n",
       "\n",
       "                                             job_title               company  \\\n",
       "863                         sr category manager, capex             cps, inc.   \n",
       "378                               sous chef - culinary  reynolds lake oconee   \n",
       "616  travel icu rn job in pleasant prairie, wi - ma...        aya healthcare   \n",
       "330                          rn- hospice at ssm health       health ecareers   \n",
       "777               senior etl data warehouse specialist    adame services llc   \n",
       "\n",
       "             job_location  first_seen search_city search_country  \\\n",
       "863            dayton, il  2024-01-14    sheridan  united states   \n",
       "378        greensboro, ga  2024-01-15     georgia  united states   \n",
       "616  pleasant prairie, wi  2024-01-14     newport  united states   \n",
       "330          st louis, mo  2024-01-16    ferguson  united states   \n",
       "777          new york, ny  2024-01-14  middletown  united states   \n",
       "\n",
       "                  search_position   job_level job_type  \\\n",
       "863                         buyer  mid senior   onsite   \n",
       "378            butcher apprentice  mid senior   onsite   \n",
       "616                     recruiter  mid senior   onsite   \n",
       "330                  pattern hand  mid senior   onsite   \n",
       "777  technical support specialist   associate   onsite   \n",
       "\n",
       "                                            job_skills  skills_count  \\\n",
       "863  [strategic development, procurement oversight,...            11   \n",
       "378  [leadership, training, motivation, serve safe ...             8   \n",
       "616  [icu, registered nurse, 1+ year experience, ni...            19   \n",
       "330  [nursing, medical assessment, care planning, p...            20   \n",
       "777  [etl, data integration, data transformation, d...            27   \n",
       "\n",
       "     gemini_likelihood                                      gemini_reason  \n",
       "863                  1  The job description focuses on procurement, ca...  \n",
       "378                  0  The job description is for a culinary position...  \n",
       "616                  0  The job description is for an ICU Registered N...  \n",
       "330                  1  The job description focuses on nursing skills ...  \n",
       "777                  3  The job description focuses heavily on ETL (Ex...  "
      ]
     },
     "execution_count": 99,
     "metadata": {},
     "output_type": "execute_result"
    }
   ],
   "source": [
    "processed_chubks.sample(5)"
   ]
  },
  {
   "cell_type": "code",
   "execution_count": null,
   "metadata": {},
   "outputs": [
    {
     "data": {
      "text/plain": [
       "gemini_likelihood\n",
       "1     511\n",
       "2      92\n",
       "3      45\n",
       "4       9\n",
       "7       3\n",
       "8       3\n",
       "9       1\n",
       "10      3\n",
       "Name: count, dtype: int64"
      ]
     },
     "execution_count": 100,
     "metadata": {},
     "output_type": "execute_result"
    }
   ],
   "source": [
    "processed_chubks[processed_chubks['gemini_likelihood'] > 0]['gemini_likelihood'].value_counts().sort_index()"
   ]
  },
  {
   "cell_type": "markdown",
   "metadata": {},
   "source": [
    "Review the distribution of the likelihood count"
   ]
  },
  {
   "cell_type": "code",
   "execution_count": 101,
   "metadata": {},
   "outputs": [
    {
     "data": {
      "image/png": "[encoded data removed]",
      "text/plain": [
       "<Figure size 1000x600 with 1 Axes>"
      ]
     },
     "metadata": {},
     "output_type": "display_data"
    }
   ],
   "source": [
    "likelihood_distribution = (\n",
    "    processed_chubks[processed_chubks[\"gemini_likelihood\"] > 0][\"gemini_likelihood\"]\n",
    "    .value_counts()\n",
    "    .sort_index()\n",
    ")\n",
    "# print(likelihood_distribution)\n",
    "\n",
    "\n",
    "plt.figure(figsize=(10, 6))\n",
    "likelihood_distribution.plot(kind=\"bar\", color=\"blue\", alpha=0.7)\n",
    "plt.title(\"Distribution of Keyword Likelihood Count (> 0)\")\n",
    "plt.xlabel(\"Keyword Likelihood (LLM Classified Jobs)\")\n",
    "plt.ylabel(\"Count\")\n",
    "plt.xticks(rotation=45)\n",
    "plt.grid(True, alpha=0.3)\n",
    "plt.show()"
   ]
  }
 ],
 "metadata": {
  "kernelspec": {
   "display_name": "base",
   "language": "python",
   "name": "python3"
  },
  "language_info": {
   "codemirror_mode": {
    "name": "ipython",
    "version": 3
   },
   "file_extension": ".py",
   "mimetype": "text/x-python",
   "name": "python",
   "nbconvert_exporter": "python",
   "pygments_lexer": "ipython3",
   "version": "3.11.5"
  }
 },
 "nbformat": 4,
 "nbformat_minor": 2
}
