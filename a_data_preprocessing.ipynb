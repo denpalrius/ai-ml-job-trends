{
 "cells": [
  {
   "cell_type": "markdown",
   "metadata": {},
   "source": [
    "# Forecasting AI and ML Job Trends\n",
    "\n",
    "Here, we perform **Exploratory Data Analysys & Preprocessing**"
   ]
  },
  {
   "cell_type": "markdown",
   "metadata": {},
   "source": [
    "## Dependencies"
   ]
  },
  {
   "cell_type": "code",
   "execution_count": 1,
   "metadata": {},
   "outputs": [],
   "source": [
    "import os\n",
    "\n",
    "import pandas as pd\n",
    "import numpy as np\n",
    "\n",
    "from tabulate import tabulate\n",
    "\n",
    "import kagglehub"
   ]
  },
  {
   "cell_type": "markdown",
   "metadata": {},
   "source": [
    "## Dataset Loading"
   ]
  },
  {
   "cell_type": "code",
   "execution_count": 2,
   "metadata": {},
   "outputs": [
    {
     "name": "stdout",
     "output_type": "stream",
     "text": [
      "Path to dataset files: /Users/mzitoh/.cache/kagglehub/datasets/asaniczka/1-3m-linkedin-jobs-and-skills-2024/versions/2\n"
     ]
    }
   ],
   "source": [
    "path = kagglehub.dataset_download(\"asaniczka/1-3m-linkedin-jobs-and-skills-2024\")\n",
    "print(\"Path to dataset files:\", path)"
   ]
  },
  {
   "cell_type": "code",
   "execution_count": 3,
   "metadata": {},
   "outputs": [],
   "source": [
    "file_names = [\"job_skills.csv\", \"job_summary.csv\", \"linkedin_job_postings.csv\"]\n",
    "\n",
    "job_skills_path, job_summary_path, job_postings_path = [\n",
    "    os.path.join(path, file_name) for file_name in file_names\n",
    "]"
   ]
  },
  {
   "cell_type": "code",
   "execution_count": 4,
   "metadata": {},
   "outputs": [
    {
     "name": "stdout",
     "output_type": "stream",
     "text": [
      "+---------------------------+------------+\n",
      "|         File Name         |    Size    |\n",
      "+---------------------------+------------+\n",
      "|      job_skills.csv       | 641.55 MB  |\n",
      "|      job_summary.csv      | 4865.66 MB |\n",
      "| linkedin_job_postings.csv | 396.09 MB  |\n",
      "+---------------------------+------------+\n"
     ]
    }
   ],
   "source": [
    "table = []\n",
    "for file_name in file_names:\n",
    "    file_path = os.path.join(path, file_name)\n",
    "    size_mb = os.path.getsize(file_path) / (1024**2)\n",
    "    table.append([file_name, f\"{size_mb:.2f} MB\"])\n",
    "\n",
    "print(tabulate(table, headers=[\"File Name\", \"Size\"], tablefmt=\"pretty\"))"
   ]
  },
  {
   "cell_type": "code",
   "execution_count": 5,
   "metadata": {},
   "outputs": [],
   "source": [
    "job_skills_df = pd.read_csv(job_skills_path)"
   ]
  },
  {
   "cell_type": "code",
   "execution_count": 6,
   "metadata": {},
   "outputs": [],
   "source": [
    "job_summary_df = pd.read_csv(job_summary_path)"
   ]
  },
  {
   "cell_type": "code",
   "execution_count": 7,
   "metadata": {},
   "outputs": [],
   "source": [
    "job_postings_df = pd.read_csv(job_postings_path)"
   ]
  },
  {
   "cell_type": "code",
   "execution_count": 8,
   "metadata": {},
   "outputs": [
    {
     "name": "stdout",
     "output_type": "stream",
     "text": [
      "Shape of Job Skills: (1296381, 2)\n",
      "Shape of Job Summary: (1297332, 2)\n",
      "Shape of Job Postings: (1348454, 14)\n"
     ]
    }
   ],
   "source": [
    "print(f\"Shape of Job Skills: {job_skills_df.shape}\")\n",
    "print(f\"Shape of Job Summary: {job_summary_df.shape}\")\n",
    "print(f\"Shape of Job Postings: {job_postings_df.shape}\")"
   ]
  },
  {
   "cell_type": "code",
   "execution_count": 9,
   "metadata": {},
   "outputs": [
    {
     "data": {
      "application/vnd.microsoft.datawrangler.viewer.v0+json": {
       "columns": [
        {
         "name": "index",
         "rawType": "int64",
         "type": "integer"
        },
        {
         "name": "job_link",
         "rawType": "object",
         "type": "string"
        },
        {
         "name": "job_skills",
         "rawType": "object",
         "type": "string"
        }
       ],
       "conversionMethod": "pd.DataFrame",
       "ref": "2f54341c-b4c7-40a2-b1a4-ce481f56bd6b",
       "rows": [
        [
         "0",
         "https://www.linkedin.com/jobs/view/housekeeper-i-pt-at-jacksonville-state-university-3802280436",
         "Building Custodial Services, Cleaning, Janitorial Services, Materials Handling, Housekeeping, Sanitation, Waste Management, Floor Maintenance, Equipment Maintenance, Safety Protocols, Communication Skills, Attention to Detail, Physical Strength, Experience in Housekeeping"
        ],
        [
         "1",
         "https://www.linkedin.com/jobs/view/assistant-general-manager-huntington-4131-at-ruby-tuesday-3575032747",
         "Customer service, Restaurant management, Food safety, Training, Supervision, Scheduling, Inventory, Cost control, Sales, Communication, Problemsolving, Leadership, Motivation, Teamwork, High School Diploma, Bachelor's Degree, ServSafe Certification, Valid Driver's License, Physical ability to perform job duties"
        ],
        [
         "2",
         "https://www.linkedin.com/jobs/view/school-based-behavior-analyst-at-ccres-educational-and-behavioral-health-services-3739544400",
         "Applied Behavior Analysis (ABA), Data analysis, Behavioral assessment, Positive behavior support, Programming development, Progress monitoring, Staff training, Verbal communication, Written communication, Team collaboration, Autism, Emotional/behavioral disorders, Intellectual disabilities, BCBA certification, Masters degree, Professional liability insurance, Clearances (Act 151 Act 34 FBI Use code: 1KG6XN), TB screening, Independent contractor, 1099"
        ],
        [
         "3",
         "https://www.linkedin.com/jobs/view/electrical-deputy-engineering-group-supervisor-at-energy-jobline-3773709557",
         "Electrical Engineering, Project Controls, Scheduling, Estimating, Engineering Efforts, Planning, Work Packaging, Communication Skills, Verbal Communication, Written Communication, Engineering Tools, Office Automation Tools, Industry Guides, Regulatory Guides, Codes, Standards, Electrical Engineering Design Principles, Electrical Systems, Schematics, Layouts, Engineering Drawings, Systems Calculations, Equipment Sizing, Cable Sizing, Power Systems Load Modeling, Power Systems Analysis, Revit, ETAP, Equipment Configuration Packages, Mechanical Engineering, Process Engineering, CSI Masterformat Specifications, SpecsIntact, Unified Facilities Criteria, Whole Building Design Guide"
        ],
        [
         "4",
         "https://www.linkedin.com/jobs/view/electrical-assembly-lead-at-sanmina-3704300377",
         "Electrical Assembly, Point to point wiring, Stripping and crimping of wiring, Reading blueprints and SOPs, Leadership skills, Communication skills, Directing and training employees, Problem solving, Excellent attendance, 46 years of related experience, High School or GED"
        ]
       ],
       "shape": {
        "columns": 2,
        "rows": 5
       }
      },
      "text/html": [
       "<div>\n",
       "<style scoped>\n",
       "    .dataframe tbody tr th:only-of-type {\n",
       "        vertical-align: middle;\n",
       "    }\n",
       "\n",
       "    .dataframe tbody tr th {\n",
       "        vertical-align: top;\n",
       "    }\n",
       "\n",
       "    .dataframe thead th {\n",
       "        text-align: right;\n",
       "    }\n",
       "</style>\n",
       "<table border=\"1\" class=\"dataframe\">\n",
       "  <thead>\n",
       "    <tr style=\"text-align: right;\">\n",
       "      <th></th>\n",
       "      <th>job_link</th>\n",
       "      <th>job_skills</th>\n",
       "    </tr>\n",
       "  </thead>\n",
       "  <tbody>\n",
       "    <tr>\n",
       "      <th>0</th>\n",
       "      <td>https://www.linkedin.com/jobs/view/housekeeper...</td>\n",
       "      <td>Building Custodial Services, Cleaning, Janitor...</td>\n",
       "    </tr>\n",
       "    <tr>\n",
       "      <th>1</th>\n",
       "      <td>https://www.linkedin.com/jobs/view/assistant-g...</td>\n",
       "      <td>Customer service, Restaurant management, Food ...</td>\n",
       "    </tr>\n",
       "    <tr>\n",
       "      <th>2</th>\n",
       "      <td>https://www.linkedin.com/jobs/view/school-base...</td>\n",
       "      <td>Applied Behavior Analysis (ABA), Data analysis...</td>\n",
       "    </tr>\n",
       "    <tr>\n",
       "      <th>3</th>\n",
       "      <td>https://www.linkedin.com/jobs/view/electrical-...</td>\n",
       "      <td>Electrical Engineering, Project Controls, Sche...</td>\n",
       "    </tr>\n",
       "    <tr>\n",
       "      <th>4</th>\n",
       "      <td>https://www.linkedin.com/jobs/view/electrical-...</td>\n",
       "      <td>Electrical Assembly, Point to point wiring, St...</td>\n",
       "    </tr>\n",
       "  </tbody>\n",
       "</table>\n",
       "</div>"
      ],
      "text/plain": [
       "                                            job_link  \\\n",
       "0  https://www.linkedin.com/jobs/view/housekeeper...   \n",
       "1  https://www.linkedin.com/jobs/view/assistant-g...   \n",
       "2  https://www.linkedin.com/jobs/view/school-base...   \n",
       "3  https://www.linkedin.com/jobs/view/electrical-...   \n",
       "4  https://www.linkedin.com/jobs/view/electrical-...   \n",
       "\n",
       "                                          job_skills  \n",
       "0  Building Custodial Services, Cleaning, Janitor...  \n",
       "1  Customer service, Restaurant management, Food ...  \n",
       "2  Applied Behavior Analysis (ABA), Data analysis...  \n",
       "3  Electrical Engineering, Project Controls, Sche...  \n",
       "4  Electrical Assembly, Point to point wiring, St...  "
      ]
     },
     "execution_count": 9,
     "metadata": {},
     "output_type": "execute_result"
    }
   ],
   "source": [
    "job_skills_df.head()"
   ]
  },
  {
   "cell_type": "code",
   "execution_count": 10,
   "metadata": {},
   "outputs": [
    {
     "data": {
      "application/vnd.microsoft.datawrangler.viewer.v0+json": {
       "columns": [
        {
         "name": "index",
         "rawType": "object",
         "type": "string"
        },
        {
         "name": "job_link",
         "rawType": "object",
         "type": "unknown"
        },
        {
         "name": "job_skills",
         "rawType": "object",
         "type": "unknown"
        }
       ],
       "conversionMethod": "pd.DataFrame",
       "ref": "03a158fb-5a17-4e9c-88f8-1b5a7a9d1eed",
       "rows": [
        [
         "count",
         "1296381",
         "1294296"
        ],
        [
         "unique",
         "1296381",
         "1287101"
        ],
        [
         "top",
         "https://www.linkedin.com/jobs/view/housekeeper-i-pt-at-jacksonville-state-university-3802280436",
         "Front Counter, DriveThru, Outside Order Taker, Runner, Dining Room Attendant, Drinks, Make Up Table, Prep, Grill, Fry, Porter, Coaching, High school diploma/GED, Restaurant leadership experience, Food Handlers Certification"
        ],
        [
         "freq",
         "1",
         "169"
        ]
       ],
       "shape": {
        "columns": 2,
        "rows": 4
       }
      },
      "text/html": [
       "<div>\n",
       "<style scoped>\n",
       "    .dataframe tbody tr th:only-of-type {\n",
       "        vertical-align: middle;\n",
       "    }\n",
       "\n",
       "    .dataframe tbody tr th {\n",
       "        vertical-align: top;\n",
       "    }\n",
       "\n",
       "    .dataframe thead th {\n",
       "        text-align: right;\n",
       "    }\n",
       "</style>\n",
       "<table border=\"1\" class=\"dataframe\">\n",
       "  <thead>\n",
       "    <tr style=\"text-align: right;\">\n",
       "      <th></th>\n",
       "      <th>job_link</th>\n",
       "      <th>job_skills</th>\n",
       "    </tr>\n",
       "  </thead>\n",
       "  <tbody>\n",
       "    <tr>\n",
       "      <th>count</th>\n",
       "      <td>1296381</td>\n",
       "      <td>1294296</td>\n",
       "    </tr>\n",
       "    <tr>\n",
       "      <th>unique</th>\n",
       "      <td>1296381</td>\n",
       "      <td>1287101</td>\n",
       "    </tr>\n",
       "    <tr>\n",
       "      <th>top</th>\n",
       "      <td>https://www.linkedin.com/jobs/view/housekeeper...</td>\n",
       "      <td>Front Counter, DriveThru, Outside Order Taker,...</td>\n",
       "    </tr>\n",
       "    <tr>\n",
       "      <th>freq</th>\n",
       "      <td>1</td>\n",
       "      <td>169</td>\n",
       "    </tr>\n",
       "  </tbody>\n",
       "</table>\n",
       "</div>"
      ],
      "text/plain": [
       "                                                 job_link  \\\n",
       "count                                             1296381   \n",
       "unique                                            1296381   \n",
       "top     https://www.linkedin.com/jobs/view/housekeeper...   \n",
       "freq                                                    1   \n",
       "\n",
       "                                               job_skills  \n",
       "count                                             1294296  \n",
       "unique                                            1287101  \n",
       "top     Front Counter, DriveThru, Outside Order Taker,...  \n",
       "freq                                                  169  "
      ]
     },
     "execution_count": 10,
     "metadata": {},
     "output_type": "execute_result"
    }
   ],
   "source": [
    "job_skills_df.describe()"
   ]
  },
  {
   "cell_type": "code",
   "execution_count": 11,
   "metadata": {},
   "outputs": [
    {
     "data": {
      "application/vnd.microsoft.datawrangler.viewer.v0+json": {
       "columns": [
        {
         "name": "index",
         "rawType": "int64",
         "type": "integer"
        },
        {
         "name": "job_link",
         "rawType": "object",
         "type": "string"
        },
        {
         "name": "job_summary",
         "rawType": "object",
         "type": "string"
        }
       ],
       "conversionMethod": "pd.DataFrame",
       "ref": "f2b084cf-e98a-43cc-98d1-b9490ece5c17",
       "rows": [
        [
         "454939",
         "https://www.linkedin.com/jobs/view/sr-principal-military-collective-trainer-for-intelligence-at-northrop-grumman-3795914025",
         "At Northrop Grumman, our employees have incredible opportunities to work on revolutionary systems that impact people's lives around the world today, and for generations to come. Our pioneering and inventive spirit has enabled us to be at the forefront of many technological advancements in our nation's history - from the first flight across the Atlantic Ocean, to stealth bombers, to landing on the moon. We look for people who have bold new ideas, courage and a pioneering spirit to join forces to invent the future, and have fun along the way. Our culture thrives on intellectual curiosity, cognitive diversity and bringing your whole self to work - and we have an insatiable drive to do what others think is impossible. Our employees are not only part of history, they're making history.\nNorthrop Grumman Defense Systems sector (NGDS) is seeking a\nSr. Principal Military Collective Trainer for Intelligence\nto join our growing team of diverse professionals supporting our III Corps program at\nFort Carson in Colorado Springs, CO (FCCO).\nThe candidate will provide consulting expertise to military or defense clients as the FCCO Mission Command Training Center (MTC) Collective Training Team Leader for Intelligence and Mission Command Mentor-Trainer.\nResponsibilities\nProvides instruction on Military Decision Making Process (MDMP), Intelligence Preparation of the Battlefield (IPB) and other intelligence functions at the Brigade (BDE)/ Division (DIV)/ Corps level\nProvides instruction on integrating the Intelligence Warfighting Function into Army Brigade and Division level tactical operations and command post functions.\nOperates the Intelligence Simulation Systems to include War Simulation (WARSIM) Intelligence Module (WIM), the Intelligence and Electronic Warfare Tactical Proficiency Trainer (IEWTPT), Virtual Unmanned Ariel Systems (VUAS) and Multiple Unified Simulation Environment (MUSE) during Brigade and Division level Command Post Exercises.\nProvides subject matter expertise on Opposing Force (OPFOR) order of battle and employment during Brigade and Division level Command Post Exercises.\nMust possess a working knowledge of Army Mission Command Information Systems (MCIS) and be able to integrate all intelligence warfighting function systems with the Intelligence Fusion Server (IFS), which serves as the primary interface between echelon Distributed Common Ground System-Army (DCGS-A) sub-systems, external IFS, and other MCIS, supporting the Common Operating Picture\nBasic Qualifications:\nOne of the following:\nBachelor's Degree and a minimum of 10 years of professional and or military experience\nMaster's Degree and a minimum of 8 years of professional and or military experience\nPossess an active U.S. Department of Defense (DOD) Top Secret (TS)/Sensitive Compartmented Information (SCI) clearance\nServed as the Officer in charge, Warrant Officer in charge, or Non-Commissioned officer in charge of a US Army Brigade or higher intelligence staff section.\nExpertise in integration of all sources of intelligence into a tactical level common operating picture to support current and future operations.\nExperience as an instructor on IPB and MDMP\nA minimum of 10 years' experience in Military Intelligence/Targeting operations at the US Army Brigade, Division, or Corps level\nMust be able to travel in the United States to support simulation-based Army training exercises as needed (up to 10% of the time)\nMust be able to work on site at Fort Carson in Colorado Springs, CO\nPreferred Qualifications:\nA minimum of 15 years' experience in Military Intelligence/Targeting operations at the US Army Brigade, Division or Corps level\nServed as an observer/controller at an Army Combat Training Center or instructor at the Military Intelligence School\nGraduate of the School of Advanced Military Studies (SAMS) or be Military Education Level 1 (MEL-1)\nExperience operating intelligence simulation systems to include WIM, MUSE, IEWTPT, and VUAS\nA minimum of 5 years' experience working with DCGS-A\nSalary Range:\n$88,500 - $132,700\nThe above salary range represents a general guideline; however, Northrop Grumman considers a number of factors when determining base salary offers such as the scope and responsibilities of the position and the candidate's experience, education, skills and current market conditions.\nEmployees may be eligible for a discretionary bonus in addition to base pay. Annual bonuses are designed to reward individual contributions as well as allow employees to share in company results. Employees in Vice President or Director positions may be eligible for Long Term Incentives. In addition, Northrop Grumman provides a variety of benefits including health insurance coverage, life and disability insurance, savings plan, Company paid holidays and paid time off (PTO) for vacation and/or personal business.\nNorthrop Grumman is committed to hiring and retaining a diverse workforce. We are proud to be an Equal Opportunity/Affirmative Action Employer, making decisions without regard to race, color, religion, creed, sex, sexual orientation, gender identity, marital status, national origin, age, veteran status, disability, or any other protected class. For our complete EEO/AA and Pay Transparency statement, please visit http://www.northropgrumman.com/EEO . U.S. Citizenship is required for most positions.\nShow more\nShow less"
        ],
        [
         "119582",
         "https://www.linkedin.com/jobs/view/line-cook-broil-grill-at-texas-roadhouse-3750881842",
         "Description:**\nLove your job at Texas Roadhouse! Join our family and take pride in your work.\nDo you feel that you have the potential to be a grill master for Texas Roadhouse? Our legendary steaks are our most popular menu item at Texas Roadhouse, and our Broil Cook position is an important one!\nAs a Top-notch Broil Cook, Your Responsibilities Would Include:\nMeat searing\nMeat seasoning\nMeat cooking\nUsing proper sanitation guidelines\nUnderstanding equipment and Prep Sheets\nExhibiting teamwork\nIf you think you would be a legendary Broil Cook, apply to become a part of our Team today!\nOur restaurant Roadies are the heart and soul of our company, bringing Legendary Food and Legendary Service to our local communities.\nAt Texas Roadhouse we have a fun culture with flexible work schedules, discounts in our restaurants, friendly competitions, recognition, formal training, and career growth opportunities.\nIn Addition, We Offer a Comprehensive Total Rewards Package After One Year Of Service To Roadies That Meet Our Benefit Eligibility Requirements. The Total Rewards Package Includes, But Is Not Limited To, The Following:\nMedical, Dental, and Vision Insurance\nEmployer paid Life Insurance\n\\*Ultra Steak, a franchisee of Texas Roadhouse is proud to be an equal opportunity employer. We are committed to providing equal employment opportunities to all employees and applicants for employment without regard to race, color, religion, age, gender, gender identity, disability, veteran status, sexual orientation, citizenship, national origin, or any other legally-protected status. We encourage and welcome all applicants to apply.\nRequirements:**\nFor more information about this position, please contact restaurant the and ask for a manager.\nShow more\nShow less"
        ],
        [
         "450064",
         "https://www.linkedin.com/jobs/view/ct-technologist-at-radnet-3685653941",
         "Tuesday - Friday 5pm to 10pm\nCT Technologist (Computed Tomography)\nWe are offering a $2500.00 Sign On bonus!! We train Radiology Techs to become CT techs!\nWe invite you to come join\nour Wave Imaging team as a Computed Tomography Technologist. This part-time career opportunity has a Tuesday - Friday 5:00pm to 10:00pm schedule, and is located at our multi-modality outpatient imaging practice in Huntington Beach, Ca. The center provides a wide variety of diagnostic imaging services to patients in a comfortable and patient friendly environment. As a CT Technologist you'll:\nPerform high quality CT exams on incoming patients.\nAdminister contrast as needed, in a safe and effective manner.\nMonitor patient's well-being during exams; recognizes patient discomfort or medical problems and takes appropriate action.\nGuide patients through this sometimes difficult process by kindly talking them through the steps and answering their questions and concerns regarding exam procedures and process.\nRespond to physician questions and needs regarding patients.\nMay occasionally travel to our nearby outpatient centers to help with coverage if needed\nParticipate in projects and/or meetings, and complete other tasks as assigned by management.\nWe offer modality cross-training,\nhands-on training, advancement opportunities, inter-company transfer opportunities, and benefits including\n: medical/dental/vision coverage, paid time off, paid holidays, a pre-tax matching 401k plan, DailyPay (make any day a payday), employee referral bonus, a pre-tax flexible spending plan, education reimbursement, free life insurance, and a host of other perks!\nRadNet is an equal opportunity employer, committed to cultural diversity. RadNet will provide equal consideration for employment to all qualified applicants without regard to their race, religion, ancestry, national origin, sex, sexual orientation, age, disability, marital status, domestic partner status, or medical condition. RadNet is an E-Verify participant. RadNet will consider for employment qualified applicants with criminal histories in a manner consistent with the requirements of the Los Angeles Fair Chance Initiative for Hiring (Article 9 in Chapter XVIII of the Los Angeles Municipal Code)\n#ctsc\nShow more\nShow less"
        ],
        [
         "754247",
         "https://www.linkedin.com/jobs/view/class-a-cdl-regional-company-driver-at-quality-carriers-3803188189",
         "Requirements:\nCDL-A with Tanker and Hazmat Endorsements\nHAVE TWIC Card or Must Be Willing to Obtain a TWIC Card\n1 Year of Tractor Trailer Experience\nHave or Be Willing to Obtain Passport\nCompensation\nAverage $1800-$2200 gross per week\nBonuses\n$3,000 Driver Referral Bonus!\nRun Details\nOut 3-5 Nights per week\nBenefits\nAll Miles Paid\nParking in Bedford Park, IL or Gary, IN\nPaid Orientation and Paid On the Job Training\nDedicated Driver Manager!\nWeekly Direct Deposit / No Hold Back!\nStability You Can Count On - Over 100 Years in Business!\nPersonal Wellness Program - Designed by Drivers for Drivers!\nFull Health Benefits - Low Cost, High Quality Options to Choose From! ( Dental, Vision, Life, Disability, Health)\nShort and Long Term Disability, Accident and Critical Illness Insurance\nVacation Time and 401k with Company Match!\nSteady and Consistent Work, Freight is Year-Round!\nEmployee Assistance Program\nEpic View Satellite TV in ALL Trucks for your enjoyment!\nRequirements:\nCDL-A with Tanker and Hazmat Endorsements\nHAVE TWIC Card or Must Be Willing to Obtain a TWIC Card\n1 Year of Tractor Trailer Experience\nHave or Be Willing to Obtain Passport\nSelect the 181 Gary, IN when applying!\nShow more\nShow less"
        ],
        [
         "665181",
         "https://www.linkedin.com/jobs/view/buyer-at-fincantieri-marine-group-3730263611",
         "Job Description\nPOSITION SUMMARY\nThis position is responsible for procurement of goods and services in direct support of the shipyard or manufacturing operations. Primary contact with suppliers and internal customers in the areas of supplier performance, disposition of Hardware, flow of material to yard, RFQ requests and purchase order placement. Promptly communicate any material shortages or non-conformances and spearhead solutions to mitigate disruption to the production schedule. Understand and maintain the ERP system to provide accurate information to all dependent departments.\nESSENTIAL DUTIES AND RESPONSIBILITIES\ninclude the following. Other duties may be assigned.\nExecute the procurement of goods and services.\nCommunicate parts availability to internal customers.\nResponsible for tactical goals, metrics, and reports.\nCreate purchase orders to meet in yard dates.\nResolve receiving discrepancies with the manufacturing location and supplier.\nExpediting -- Contact suppliers to determine delivery status of material and software deliverables.\nDevelop cost savings plans.\nEnter and maintain Data in the ERP system.\nCreate and administer progress payment forms.\nExecute and monitor RFQ's to the supply base and assist in analyzing the results.\nParticipate in Manufacturing, Engineering, and Purchasing meetings.\nParticipate in meetings with commodity or sub-contract leads.\nAnalyze and interpret industry conditions which may have an effect on design, lead time and cost.\nDevelop cost savings plans.\nPrepare and analyze quotes.\nParticipate in weekly Manufacturing, Engineering and Purchasing Meetings.\nProvide guidance and feedback to other functional departments to improve processes/procedures.\nInternally Communicate with:\nWarehouse Personnel -- receiving/inventory discrepancies, shippers, procurement inspection reports, order quantities, and packaging requirements\nProgram Managers -- approval signatures & material status\nEngineering -- technical assistance and clarity of material specifications\nIntegrated Logistics Support (ILS) -- provisioning and technical manual submittals\nManufacturing -- material ordering/expediting; timely communication of any shortage to the production schedule\nFinance -- invoice reconciliation\nPlanning -- provide parts & schedule information\nPurchasing -- communicate significant production shortages to the Commodity Manager, yard and Purchasing management\nContracts -- terms and conditions, contractual advice\nExternally Communicate with:\nSuppliers -- material ordering, expediting, RFQ's,, supplier performance and receiving discrepancies\nFreight Forwarders -- customs services, imports/exports, bonds, duty\nCustomer -- advise in-plant test dates and material disposition\nMust abide by and enforce all organizational policies and procedures.\nRequirements\nQUALIFICATIONS\nTo perform this job successfully, an individual must be able to perform each essential duty satisfactorily. The requirements listed below are representative of the knowledge, skill, and/or ability required. Reasonable accommodations may be made to enable individuals with disabilities to perform the essential functions.\nEDUCATION AND EXPERIENCE\nBachelor's degree in a business or technical related field and at least 2 years' experience in supply chain or related experience; or\nThis can also be met with an Associate's degree and at least 3 years' experience in supply chain or related experience; or a HS Diploma and at least 5 years' experience in supply chain or related experience.\nMust be proficient in Microsoft Office products, especially Excel and Word.\nExperience with MRP/ERP systems a plus.\nSKILLS\nSense of urgency\nOrganized\nAbility to form and build relationships\nExcellent system knowledge\nProduct knowledge\nPro-active\nAbility to develop mitigation plans\nProject management\nVerbal and written communication skills\nTeam player/leadership\nWillingness to learn\nKnowledge of Earned Value Management and ISO\nAbility to multi-task/time management\nMust have strong Microsoft Office Suites computer skills.\nMust have strong organizational and time management skills.\nMust have the ability to maintain a professional demeanor.\nMust have effective written and verbal communication skills.\nMust have ability to maintain confidentiality.\nCOMPETENCIES:\nOwnership and Accountability\nTeam Work and Collaboration\nBusiness Discipline\nSense of Urgency\nFincantieri Marinette Marine (FMM) believes it is our responsibility to ensure that each of us works safely and productively, goes home healthy, and considers the environment in their actions, each and every day. Management is committed to providing a safe and healthy work setting, and protecting the environment as a key tenet of our culture and a primary mission. All employees are required to adhere to ISO and OHSAS policies established by FMM and shall have high values for safety awareness and be mindful of environmental impacts associated with each job task.\nFincantieri Marinette Marine offers competitive pay with benefits in a growth-oriented environment. Qualified and interested applicants are encouraged to apply. Apply online at https://recruiting.adp.com/srccar/public/RTI.home?c=2155013&d=FMG-External\nFincantieri Marinette Marine is an Equal Opportunity Employer/Affirmative Action Employer and promotes a Drug Free Work Environment. Minorities, Women, Veterans and Disabled are encouraged to apply. All qualified applicants will receive consideration for employment without regard to race, color, religion, sex, sexual orientation, gender identity, national origin, or protected veteran status and will not be discriminated against on the basis of disability.\nShow more\nShow less"
        ]
       ],
       "shape": {
        "columns": 2,
        "rows": 5
       }
      },
      "text/html": [
       "<div>\n",
       "<style scoped>\n",
       "    .dataframe tbody tr th:only-of-type {\n",
       "        vertical-align: middle;\n",
       "    }\n",
       "\n",
       "    .dataframe tbody tr th {\n",
       "        vertical-align: top;\n",
       "    }\n",
       "\n",
       "    .dataframe thead th {\n",
       "        text-align: right;\n",
       "    }\n",
       "</style>\n",
       "<table border=\"1\" class=\"dataframe\">\n",
       "  <thead>\n",
       "    <tr style=\"text-align: right;\">\n",
       "      <th></th>\n",
       "      <th>job_link</th>\n",
       "      <th>job_summary</th>\n",
       "    </tr>\n",
       "  </thead>\n",
       "  <tbody>\n",
       "    <tr>\n",
       "      <th>454939</th>\n",
       "      <td>https://www.linkedin.com/jobs/view/sr-principa...</td>\n",
       "      <td>At Northrop Grumman, our employees have incred...</td>\n",
       "    </tr>\n",
       "    <tr>\n",
       "      <th>119582</th>\n",
       "      <td>https://www.linkedin.com/jobs/view/line-cook-b...</td>\n",
       "      <td>Description:**\\nLove your job at Texas Roadhou...</td>\n",
       "    </tr>\n",
       "    <tr>\n",
       "      <th>450064</th>\n",
       "      <td>https://www.linkedin.com/jobs/view/ct-technolo...</td>\n",
       "      <td>Tuesday - Friday 5pm to 10pm\\nCT Technologist ...</td>\n",
       "    </tr>\n",
       "    <tr>\n",
       "      <th>754247</th>\n",
       "      <td>https://www.linkedin.com/jobs/view/class-a-cdl...</td>\n",
       "      <td>Requirements:\\nCDL-A with Tanker and Hazmat En...</td>\n",
       "    </tr>\n",
       "    <tr>\n",
       "      <th>665181</th>\n",
       "      <td>https://www.linkedin.com/jobs/view/buyer-at-fi...</td>\n",
       "      <td>Job Description\\nPOSITION SUMMARY\\nThis positi...</td>\n",
       "    </tr>\n",
       "  </tbody>\n",
       "</table>\n",
       "</div>"
      ],
      "text/plain": [
       "                                                 job_link  \\\n",
       "454939  https://www.linkedin.com/jobs/view/sr-principa...   \n",
       "119582  https://www.linkedin.com/jobs/view/line-cook-b...   \n",
       "450064  https://www.linkedin.com/jobs/view/ct-technolo...   \n",
       "754247  https://www.linkedin.com/jobs/view/class-a-cdl...   \n",
       "665181  https://www.linkedin.com/jobs/view/buyer-at-fi...   \n",
       "\n",
       "                                              job_summary  \n",
       "454939  At Northrop Grumman, our employees have incred...  \n",
       "119582  Description:**\\nLove your job at Texas Roadhou...  \n",
       "450064  Tuesday - Friday 5pm to 10pm\\nCT Technologist ...  \n",
       "754247  Requirements:\\nCDL-A with Tanker and Hazmat En...  \n",
       "665181  Job Description\\nPOSITION SUMMARY\\nThis positi...  "
      ]
     },
     "execution_count": 11,
     "metadata": {},
     "output_type": "execute_result"
    }
   ],
   "source": [
    "job_summary_df.sample(5)"
   ]
  },
  {
   "cell_type": "code",
   "execution_count": 12,
   "metadata": {},
   "outputs": [
    {
     "data": {
      "application/vnd.microsoft.datawrangler.viewer.v0+json": {
       "columns": [
        {
         "name": "index",
         "rawType": "object",
         "type": "string"
        },
        {
         "name": "job_link",
         "rawType": "object",
         "type": "unknown"
        },
        {
         "name": "job_summary",
         "rawType": "object",
         "type": "unknown"
        }
       ],
       "conversionMethod": "pd.DataFrame",
       "ref": "a50c0a33-da7b-4d0f-aba0-6bd63225c164",
       "rows": [
        [
         "count",
         "1297332",
         "1297332"
        ],
        [
         "unique",
         "1297332",
         "958192"
        ],
        [
         "top",
         "https://www.linkedin.com/jobs/view/restaurant-manager-at-rock-n-roll-sushi-3805551344",
         "Dollar General Corporation has been delivering value to shoppers for more than 80 years. Dollar General helps shoppers Save time. Save money. Every day.® by offering products that are frequently used and replenished, such as food, snacks, health and beauty aids, cleaning supplies, basic apparel, housewares and seasonal items at everyday low prices in convenient neighborhood locations. Dollar General operates more than 18,000 stores in 47 states, and we’re still growing. Learn more about Dollar General at www.dollargeneral.com.\nGENERAL SUMMARY\nFunction as a Cashier and/or Stocker and act in a lead capacity in the absence of the Store Manager or Assistant Store Manager. Assist in setting and maintaining plan-o-grams and programs. Provide exemplary customer service. Perform other duties as necessary to maximize profitability, customer satisfaction, and teamwork, while protecting company assets and reducing losses.\nDUTIES and ESSENTIAL JOB FUNCTIONS\nUnload trucks according to the prescribed process for the store.\nFollow company work processes to receive, open and unpack cartons and totes.\nStock merchandise; rotate and face merchandise on shelves and build merchandise displays.\nRestock returned and recovered merchandise.\nOrder zones and drop shipment categories, following prescribed ordering practices, as assigned by the Store Manager.\nAssist in plan-o-gram implementation and maintenance.\nAssist customers by locating merchandise.\nBail cardboard and take out trash; dust and mop store floors; clean restroom and stockroom.\nGreet customers as they enter the store.\nMaintain register countertops and bags; implement register countertop plan-o-grams.\nOperate cash register and flatbed scanner to itemize and total customer's purchase; bag merchandise.\nCollect payment from customer and make change.\nClean front end of store and help set up sidewalk displays.\nHelp to maintain a clean, well-organized store and facilitate a safe and secure working and shopping environment.\nProvide superior customer service leadership.\nFollow company policies and procedures as outlined in the Standard Operating Procedures manual, Employee Handbook, and company communications.\nOpen and/or close the store under specific direction of the Area Manager.\nIn the Absence of the Store Manager or Assistant Store Manager\nAuthorize and sign for refunds and overrides; count register; make bank deposits.\nAssist in maintaining strict cashier accountability, key control, and adherence to company security practices and cash control procedures.\nMonitor cash levels and make appropriate drawer pulls as directed by the Store Manager.\nMonitor cameras for unusual activities (customers and employees), if applicable.\nSupply cashiers with change when needed.\nComplete all required paperwork and documentation according to guidelines and deadlines as assigned.\nKNOWLEDGE and SKILLS\nAbility to perform mathematical calculations such as addition, subtraction, multiplication, division, and percentages.\nKnowledge of cash handling procedures including cashier accountability and deposit control.\nAbility to perform IBM cash register functions.\nKnowledge of cash, facility and safety control policies and practices.\nEffective interpersonal and oral & written communication skills.\nUnderstanding of safety policies and practices.\nAbility to read and follow plan-o-gram and merchandise presentation guidance.\nWORK EXPERIENCE and/or EDUCATION\nHigh school diploma or equivalent and six months of supervisory experience (or related experience/training) preferred.\nRelocation assistance is not available for this position.\nDollar General Corporation is an equal opportunity employer.\nShow more\nShow less"
        ],
        [
         "freq",
         "1",
         "4571"
        ]
       ],
       "shape": {
        "columns": 2,
        "rows": 4
       }
      },
      "text/html": [
       "<div>\n",
       "<style scoped>\n",
       "    .dataframe tbody tr th:only-of-type {\n",
       "        vertical-align: middle;\n",
       "    }\n",
       "\n",
       "    .dataframe tbody tr th {\n",
       "        vertical-align: top;\n",
       "    }\n",
       "\n",
       "    .dataframe thead th {\n",
       "        text-align: right;\n",
       "    }\n",
       "</style>\n",
       "<table border=\"1\" class=\"dataframe\">\n",
       "  <thead>\n",
       "    <tr style=\"text-align: right;\">\n",
       "      <th></th>\n",
       "      <th>job_link</th>\n",
       "      <th>job_summary</th>\n",
       "    </tr>\n",
       "  </thead>\n",
       "  <tbody>\n",
       "    <tr>\n",
       "      <th>count</th>\n",
       "      <td>1297332</td>\n",
       "      <td>1297332</td>\n",
       "    </tr>\n",
       "    <tr>\n",
       "      <th>unique</th>\n",
       "      <td>1297332</td>\n",
       "      <td>958192</td>\n",
       "    </tr>\n",
       "    <tr>\n",
       "      <th>top</th>\n",
       "      <td>https://www.linkedin.com/jobs/view/restaurant-...</td>\n",
       "      <td>Dollar General Corporation has been delivering...</td>\n",
       "    </tr>\n",
       "    <tr>\n",
       "      <th>freq</th>\n",
       "      <td>1</td>\n",
       "      <td>4571</td>\n",
       "    </tr>\n",
       "  </tbody>\n",
       "</table>\n",
       "</div>"
      ],
      "text/plain": [
       "                                                 job_link  \\\n",
       "count                                             1297332   \n",
       "unique                                            1297332   \n",
       "top     https://www.linkedin.com/jobs/view/restaurant-...   \n",
       "freq                                                    1   \n",
       "\n",
       "                                              job_summary  \n",
       "count                                             1297332  \n",
       "unique                                             958192  \n",
       "top     Dollar General Corporation has been delivering...  \n",
       "freq                                                 4571  "
      ]
     },
     "execution_count": 12,
     "metadata": {},
     "output_type": "execute_result"
    }
   ],
   "source": [
    "job_summary_df.describe()"
   ]
  },
  {
   "cell_type": "code",
   "execution_count": 13,
   "metadata": {},
   "outputs": [
    {
     "data": {
      "application/vnd.microsoft.datawrangler.viewer.v0+json": {
       "columns": [
        {
         "name": "index",
         "rawType": "int64",
         "type": "integer"
        },
        {
         "name": "job_link",
         "rawType": "object",
         "type": "string"
        },
        {
         "name": "last_processed_time",
         "rawType": "object",
         "type": "string"
        },
        {
         "name": "got_summary",
         "rawType": "object",
         "type": "string"
        },
        {
         "name": "got_ner",
         "rawType": "object",
         "type": "string"
        },
        {
         "name": "is_being_worked",
         "rawType": "object",
         "type": "string"
        },
        {
         "name": "job_title",
         "rawType": "object",
         "type": "string"
        },
        {
         "name": "company",
         "rawType": "object",
         "type": "string"
        },
        {
         "name": "job_location",
         "rawType": "object",
         "type": "string"
        },
        {
         "name": "first_seen",
         "rawType": "object",
         "type": "string"
        },
        {
         "name": "search_city",
         "rawType": "object",
         "type": "string"
        },
        {
         "name": "search_country",
         "rawType": "object",
         "type": "string"
        },
        {
         "name": "search_position",
         "rawType": "object",
         "type": "string"
        },
        {
         "name": "job_level",
         "rawType": "object",
         "type": "string"
        },
        {
         "name": "job_type",
         "rawType": "object",
         "type": "string"
        }
       ],
       "conversionMethod": "pd.DataFrame",
       "ref": "e6274e65-2118-4980-b40a-d49fcbf371ac",
       "rows": [
        [
         "0",
         "https://www.linkedin.com/jobs/view/account-executive-dispensing-norcal-northern-nevada-becton-dickinson-at-bd-3802078767",
         "2024-01-21 07:12:29.00256+00",
         "t",
         "t",
         "f",
         "Account Executive - Dispensing (NorCal/Northern Nevada) - Becton Dickinson",
         "BD",
         "San Diego, CA",
         "2024-01-15",
         "Coronado",
         "United States",
         "Color Maker",
         "Mid senior",
         "Onsite"
        ],
        [
         "1",
         "https://www.linkedin.com/jobs/view/registered-nurse-rn-care-manager-at-trinity-health-mi-3803386312",
         "2024-01-21 07:39:58.88137+00",
         "t",
         "t",
         "f",
         "Registered Nurse - RN Care Manager",
         "Trinity Health MI",
         "Norton Shores, MI",
         "2024-01-14",
         "Grand Haven",
         "United States",
         "Director Nursing Service",
         "Mid senior",
         "Onsite"
        ],
        [
         "2",
         "https://www.linkedin.com/jobs/view/restaurant-supervisor-the-forklift-at-wasatch-adaptive-sports-3771464419",
         "2024-01-21 07:40:00.251126+00",
         "t",
         "t",
         "f",
         "RESTAURANT SUPERVISOR - THE FORKLIFT",
         "Wasatch Adaptive Sports",
         "Sandy, UT",
         "2024-01-14",
         "Tooele",
         "United States",
         "Stand-In",
         "Mid senior",
         "Onsite"
        ],
        [
         "3",
         "https://www.linkedin.com/jobs/view/independent-real-estate-agent-at-howard-hanna-rand-realty-3797661348",
         "2024-01-21 07:40:00.308133+00",
         "t",
         "t",
         "f",
         "Independent Real Estate Agent",
         "Howard Hanna | Rand Realty",
         "Englewood Cliffs, NJ",
         "2024-01-16",
         "Pinehurst",
         "United States",
         "Real-Estate Clerk",
         "Mid senior",
         "Onsite"
        ],
        [
         "4",
         "https://www.linkedin.com/jobs/view/group-unit-supervisor-systems-support-manager-tss-at-irs-office-of-chief-counsel-3803057508",
         "2024-01-19 09:45:09.215838+00",
         "f",
         "f",
         "f",
         "Group/Unit Supervisor (Systems Support Manager TSS)",
         "IRS, Office of Chief Counsel",
         "Chamblee, GA",
         "2024-01-17",
         "Gadsden",
         "United States",
         "Supervisor Travel-Information Center",
         "Mid senior",
         "Onsite"
        ]
       ],
       "shape": {
        "columns": 14,
        "rows": 5
       }
      },
      "text/html": [
       "<div>\n",
       "<style scoped>\n",
       "    .dataframe tbody tr th:only-of-type {\n",
       "        vertical-align: middle;\n",
       "    }\n",
       "\n",
       "    .dataframe tbody tr th {\n",
       "        vertical-align: top;\n",
       "    }\n",
       "\n",
       "    .dataframe thead th {\n",
       "        text-align: right;\n",
       "    }\n",
       "</style>\n",
       "<table border=\"1\" class=\"dataframe\">\n",
       "  <thead>\n",
       "    <tr style=\"text-align: right;\">\n",
       "      <th></th>\n",
       "      <th>job_link</th>\n",
       "      <th>last_processed_time</th>\n",
       "      <th>got_summary</th>\n",
       "      <th>got_ner</th>\n",
       "      <th>is_being_worked</th>\n",
       "      <th>job_title</th>\n",
       "      <th>company</th>\n",
       "      <th>job_location</th>\n",
       "      <th>first_seen</th>\n",
       "      <th>search_city</th>\n",
       "      <th>search_country</th>\n",
       "      <th>search_position</th>\n",
       "      <th>job_level</th>\n",
       "      <th>job_type</th>\n",
       "    </tr>\n",
       "  </thead>\n",
       "  <tbody>\n",
       "    <tr>\n",
       "      <th>0</th>\n",
       "      <td>https://www.linkedin.com/jobs/view/account-exe...</td>\n",
       "      <td>2024-01-21 07:12:29.00256+00</td>\n",
       "      <td>t</td>\n",
       "      <td>t</td>\n",
       "      <td>f</td>\n",
       "      <td>Account Executive - Dispensing (NorCal/Norther...</td>\n",
       "      <td>BD</td>\n",
       "      <td>San Diego, CA</td>\n",
       "      <td>2024-01-15</td>\n",
       "      <td>Coronado</td>\n",
       "      <td>United States</td>\n",
       "      <td>Color Maker</td>\n",
       "      <td>Mid senior</td>\n",
       "      <td>Onsite</td>\n",
       "    </tr>\n",
       "    <tr>\n",
       "      <th>1</th>\n",
       "      <td>https://www.linkedin.com/jobs/view/registered-...</td>\n",
       "      <td>2024-01-21 07:39:58.88137+00</td>\n",
       "      <td>t</td>\n",
       "      <td>t</td>\n",
       "      <td>f</td>\n",
       "      <td>Registered Nurse - RN Care Manager</td>\n",
       "      <td>Trinity Health MI</td>\n",
       "      <td>Norton Shores, MI</td>\n",
       "      <td>2024-01-14</td>\n",
       "      <td>Grand Haven</td>\n",
       "      <td>United States</td>\n",
       "      <td>Director Nursing Service</td>\n",
       "      <td>Mid senior</td>\n",
       "      <td>Onsite</td>\n",
       "    </tr>\n",
       "    <tr>\n",
       "      <th>2</th>\n",
       "      <td>https://www.linkedin.com/jobs/view/restaurant-...</td>\n",
       "      <td>2024-01-21 07:40:00.251126+00</td>\n",
       "      <td>t</td>\n",
       "      <td>t</td>\n",
       "      <td>f</td>\n",
       "      <td>RESTAURANT SUPERVISOR - THE FORKLIFT</td>\n",
       "      <td>Wasatch Adaptive Sports</td>\n",
       "      <td>Sandy, UT</td>\n",
       "      <td>2024-01-14</td>\n",
       "      <td>Tooele</td>\n",
       "      <td>United States</td>\n",
       "      <td>Stand-In</td>\n",
       "      <td>Mid senior</td>\n",
       "      <td>Onsite</td>\n",
       "    </tr>\n",
       "    <tr>\n",
       "      <th>3</th>\n",
       "      <td>https://www.linkedin.com/jobs/view/independent...</td>\n",
       "      <td>2024-01-21 07:40:00.308133+00</td>\n",
       "      <td>t</td>\n",
       "      <td>t</td>\n",
       "      <td>f</td>\n",
       "      <td>Independent Real Estate Agent</td>\n",
       "      <td>Howard Hanna | Rand Realty</td>\n",
       "      <td>Englewood Cliffs, NJ</td>\n",
       "      <td>2024-01-16</td>\n",
       "      <td>Pinehurst</td>\n",
       "      <td>United States</td>\n",
       "      <td>Real-Estate Clerk</td>\n",
       "      <td>Mid senior</td>\n",
       "      <td>Onsite</td>\n",
       "    </tr>\n",
       "    <tr>\n",
       "      <th>4</th>\n",
       "      <td>https://www.linkedin.com/jobs/view/group-unit-...</td>\n",
       "      <td>2024-01-19 09:45:09.215838+00</td>\n",
       "      <td>f</td>\n",
       "      <td>f</td>\n",
       "      <td>f</td>\n",
       "      <td>Group/Unit Supervisor (Systems Support Manager...</td>\n",
       "      <td>IRS, Office of Chief Counsel</td>\n",
       "      <td>Chamblee, GA</td>\n",
       "      <td>2024-01-17</td>\n",
       "      <td>Gadsden</td>\n",
       "      <td>United States</td>\n",
       "      <td>Supervisor Travel-Information Center</td>\n",
       "      <td>Mid senior</td>\n",
       "      <td>Onsite</td>\n",
       "    </tr>\n",
       "  </tbody>\n",
       "</table>\n",
       "</div>"
      ],
      "text/plain": [
       "                                            job_link  \\\n",
       "0  https://www.linkedin.com/jobs/view/account-exe...   \n",
       "1  https://www.linkedin.com/jobs/view/registered-...   \n",
       "2  https://www.linkedin.com/jobs/view/restaurant-...   \n",
       "3  https://www.linkedin.com/jobs/view/independent...   \n",
       "4  https://www.linkedin.com/jobs/view/group-unit-...   \n",
       "\n",
       "             last_processed_time got_summary got_ner is_being_worked  \\\n",
       "0   2024-01-21 07:12:29.00256+00           t       t               f   \n",
       "1   2024-01-21 07:39:58.88137+00           t       t               f   \n",
       "2  2024-01-21 07:40:00.251126+00           t       t               f   \n",
       "3  2024-01-21 07:40:00.308133+00           t       t               f   \n",
       "4  2024-01-19 09:45:09.215838+00           f       f               f   \n",
       "\n",
       "                                           job_title  \\\n",
       "0  Account Executive - Dispensing (NorCal/Norther...   \n",
       "1                 Registered Nurse - RN Care Manager   \n",
       "2               RESTAURANT SUPERVISOR - THE FORKLIFT   \n",
       "3                      Independent Real Estate Agent   \n",
       "4  Group/Unit Supervisor (Systems Support Manager...   \n",
       "\n",
       "                        company          job_location  first_seen  \\\n",
       "0                            BD         San Diego, CA  2024-01-15   \n",
       "1             Trinity Health MI     Norton Shores, MI  2024-01-14   \n",
       "2       Wasatch Adaptive Sports             Sandy, UT  2024-01-14   \n",
       "3    Howard Hanna | Rand Realty  Englewood Cliffs, NJ  2024-01-16   \n",
       "4  IRS, Office of Chief Counsel          Chamblee, GA  2024-01-17   \n",
       "\n",
       "   search_city search_country                       search_position  \\\n",
       "0     Coronado  United States                           Color Maker   \n",
       "1  Grand Haven  United States              Director Nursing Service   \n",
       "2       Tooele  United States                              Stand-In   \n",
       "3    Pinehurst  United States                     Real-Estate Clerk   \n",
       "4      Gadsden  United States  Supervisor Travel-Information Center   \n",
       "\n",
       "    job_level job_type  \n",
       "0  Mid senior   Onsite  \n",
       "1  Mid senior   Onsite  \n",
       "2  Mid senior   Onsite  \n",
       "3  Mid senior   Onsite  \n",
       "4  Mid senior   Onsite  "
      ]
     },
     "execution_count": 13,
     "metadata": {},
     "output_type": "execute_result"
    }
   ],
   "source": [
    "job_postings_df.head()"
   ]
  },
  {
   "cell_type": "code",
   "execution_count": 14,
   "metadata": {},
   "outputs": [
    {
     "data": {
      "application/vnd.microsoft.datawrangler.viewer.v0+json": {
       "columns": [
        {
         "name": "index",
         "rawType": "object",
         "type": "string"
        },
        {
         "name": "job_link",
         "rawType": "object",
         "type": "unknown"
        },
        {
         "name": "last_processed_time",
         "rawType": "object",
         "type": "unknown"
        },
        {
         "name": "got_summary",
         "rawType": "object",
         "type": "unknown"
        },
        {
         "name": "got_ner",
         "rawType": "object",
         "type": "unknown"
        },
        {
         "name": "is_being_worked",
         "rawType": "object",
         "type": "unknown"
        },
        {
         "name": "job_title",
         "rawType": "object",
         "type": "unknown"
        },
        {
         "name": "company",
         "rawType": "object",
         "type": "unknown"
        },
        {
         "name": "job_location",
         "rawType": "object",
         "type": "unknown"
        },
        {
         "name": "first_seen",
         "rawType": "object",
         "type": "unknown"
        },
        {
         "name": "search_city",
         "rawType": "object",
         "type": "unknown"
        },
        {
         "name": "search_country",
         "rawType": "object",
         "type": "unknown"
        },
        {
         "name": "search_position",
         "rawType": "object",
         "type": "unknown"
        },
        {
         "name": "job_level",
         "rawType": "object",
         "type": "unknown"
        },
        {
         "name": "job_type",
         "rawType": "object",
         "type": "unknown"
        }
       ],
       "conversionMethod": "pd.DataFrame",
       "ref": "066fa137-6474-4539-91f3-1406028933f3",
       "rows": [
        [
         "count",
         "1348454",
         "1348454",
         "1348454",
         "1348454",
         "1348454",
         "1348454",
         "1348443",
         "1348435",
         "1348454",
         "1348454",
         "1348454",
         "1348454",
         "1348454",
         "1348454"
        ],
        [
         "unique",
         "1348454",
         "722748",
         "2",
         "2",
         "2",
         "584544",
         "90605",
         "29153",
         "6",
         "1018",
         "4",
         "1993",
         "2",
         "3"
        ],
        [
         "top",
         "https://www.linkedin.com/jobs/view/account-executive-dispensing-norcal-northern-nevada-becton-dickinson-at-bd-3802078767",
         "2024-01-19 09:45:09.215838+00",
         "t",
         "t",
         "f",
         "LEAD SALES ASSOCIATE-FT",
         "Health eCareers",
         "New York, NY",
         "2024-01-14",
         "Baytown",
         "United States",
         "Account Executive",
         "Mid senior",
         "Onsite"
        ],
        [
         "freq",
         "1",
         "625540",
         "1297877",
         "1296401",
         "1346978",
         "7325",
         "41598",
         "13436",
         "460035",
         "10052",
         "1149342",
         "19468",
         "1204445",
         "1337633"
        ]
       ],
       "shape": {
        "columns": 14,
        "rows": 4
       }
      },
      "text/html": [
       "<div>\n",
       "<style scoped>\n",
       "    .dataframe tbody tr th:only-of-type {\n",
       "        vertical-align: middle;\n",
       "    }\n",
       "\n",
       "    .dataframe tbody tr th {\n",
       "        vertical-align: top;\n",
       "    }\n",
       "\n",
       "    .dataframe thead th {\n",
       "        text-align: right;\n",
       "    }\n",
       "</style>\n",
       "<table border=\"1\" class=\"dataframe\">\n",
       "  <thead>\n",
       "    <tr style=\"text-align: right;\">\n",
       "      <th></th>\n",
       "      <th>job_link</th>\n",
       "      <th>last_processed_time</th>\n",
       "      <th>got_summary</th>\n",
       "      <th>got_ner</th>\n",
       "      <th>is_being_worked</th>\n",
       "      <th>job_title</th>\n",
       "      <th>company</th>\n",
       "      <th>job_location</th>\n",
       "      <th>first_seen</th>\n",
       "      <th>search_city</th>\n",
       "      <th>search_country</th>\n",
       "      <th>search_position</th>\n",
       "      <th>job_level</th>\n",
       "      <th>job_type</th>\n",
       "    </tr>\n",
       "  </thead>\n",
       "  <tbody>\n",
       "    <tr>\n",
       "      <th>count</th>\n",
       "      <td>1348454</td>\n",
       "      <td>1348454</td>\n",
       "      <td>1348454</td>\n",
       "      <td>1348454</td>\n",
       "      <td>1348454</td>\n",
       "      <td>1348454</td>\n",
       "      <td>1348443</td>\n",
       "      <td>1348435</td>\n",
       "      <td>1348454</td>\n",
       "      <td>1348454</td>\n",
       "      <td>1348454</td>\n",
       "      <td>1348454</td>\n",
       "      <td>1348454</td>\n",
       "      <td>1348454</td>\n",
       "    </tr>\n",
       "    <tr>\n",
       "      <th>unique</th>\n",
       "      <td>1348454</td>\n",
       "      <td>722748</td>\n",
       "      <td>2</td>\n",
       "      <td>2</td>\n",
       "      <td>2</td>\n",
       "      <td>584544</td>\n",
       "      <td>90605</td>\n",
       "      <td>29153</td>\n",
       "      <td>6</td>\n",
       "      <td>1018</td>\n",
       "      <td>4</td>\n",
       "      <td>1993</td>\n",
       "      <td>2</td>\n",
       "      <td>3</td>\n",
       "    </tr>\n",
       "    <tr>\n",
       "      <th>top</th>\n",
       "      <td>https://www.linkedin.com/jobs/view/account-exe...</td>\n",
       "      <td>2024-01-19 09:45:09.215838+00</td>\n",
       "      <td>t</td>\n",
       "      <td>t</td>\n",
       "      <td>f</td>\n",
       "      <td>LEAD SALES ASSOCIATE-FT</td>\n",
       "      <td>Health eCareers</td>\n",
       "      <td>New York, NY</td>\n",
       "      <td>2024-01-14</td>\n",
       "      <td>Baytown</td>\n",
       "      <td>United States</td>\n",
       "      <td>Account Executive</td>\n",
       "      <td>Mid senior</td>\n",
       "      <td>Onsite</td>\n",
       "    </tr>\n",
       "    <tr>\n",
       "      <th>freq</th>\n",
       "      <td>1</td>\n",
       "      <td>625540</td>\n",
       "      <td>1297877</td>\n",
       "      <td>1296401</td>\n",
       "      <td>1346978</td>\n",
       "      <td>7325</td>\n",
       "      <td>41598</td>\n",
       "      <td>13436</td>\n",
       "      <td>460035</td>\n",
       "      <td>10052</td>\n",
       "      <td>1149342</td>\n",
       "      <td>19468</td>\n",
       "      <td>1204445</td>\n",
       "      <td>1337633</td>\n",
       "    </tr>\n",
       "  </tbody>\n",
       "</table>\n",
       "</div>"
      ],
      "text/plain": [
       "                                                 job_link  \\\n",
       "count                                             1348454   \n",
       "unique                                            1348454   \n",
       "top     https://www.linkedin.com/jobs/view/account-exe...   \n",
       "freq                                                    1   \n",
       "\n",
       "                  last_processed_time got_summary  got_ner is_being_worked  \\\n",
       "count                         1348454     1348454  1348454         1348454   \n",
       "unique                         722748           2        2               2   \n",
       "top     2024-01-19 09:45:09.215838+00           t        t               f   \n",
       "freq                           625540     1297877  1296401         1346978   \n",
       "\n",
       "                      job_title          company  job_location  first_seen  \\\n",
       "count                   1348454          1348443       1348435     1348454   \n",
       "unique                   584544            90605         29153           6   \n",
       "top     LEAD SALES ASSOCIATE-FT  Health eCareers  New York, NY  2024-01-14   \n",
       "freq                       7325            41598         13436      460035   \n",
       "\n",
       "       search_city search_country    search_position   job_level job_type  \n",
       "count      1348454        1348454            1348454     1348454  1348454  \n",
       "unique        1018              4               1993           2        3  \n",
       "top        Baytown  United States  Account Executive  Mid senior   Onsite  \n",
       "freq         10052        1149342              19468     1204445  1337633  "
      ]
     },
     "execution_count": 14,
     "metadata": {},
     "output_type": "execute_result"
    }
   ],
   "source": [
    "job_postings_df.describe()"
   ]
  },
  {
   "cell_type": "markdown",
   "metadata": {},
   "source": [
    "## Data Cleaning"
   ]
  },
  {
   "cell_type": "markdown",
   "metadata": {},
   "source": [
    "#### Data enrichment"
   ]
  },
  {
   "cell_type": "markdown",
   "metadata": {},
   "source": [
    "Enriching Job Postings with Skills Information for Analysis"
   ]
  },
  {
   "cell_type": "code",
   "execution_count": 15,
   "metadata": {},
   "outputs": [],
   "source": [
    "job_postings_raw = pd.merge(job_postings_df, job_skills_df, on=\"job_link\", how=\"inner\")"
   ]
  },
  {
   "cell_type": "markdown",
   "metadata": {},
   "source": [
    "#### Remove Duplicates"
   ]
  },
  {
   "cell_type": "markdown",
   "metadata": {},
   "source": [
    "Check for and remove any duplicate rows"
   ]
  },
  {
   "cell_type": "code",
   "execution_count": 16,
   "metadata": {},
   "outputs": [
    {
     "name": "stdout",
     "output_type": "stream",
     "text": [
      "Number of duplicates: 0\n"
     ]
    }
   ],
   "source": [
    "# Check for duplicates\n",
    "duplicates = job_postings_raw.duplicated().sum()\n",
    "print(f\"Number of duplicates: {duplicates}\")\n",
    "\n",
    "# Removing duplicates\n",
    "job_postings_no_duplicates = job_postings_raw.drop_duplicates()"
   ]
  },
  {
   "cell_type": "markdown",
   "metadata": {},
   "source": [
    "#### Missing Values"
   ]
  },
  {
   "cell_type": "markdown",
   "metadata": {},
   "source": [
    "Review the number of missing values for each column"
   ]
  },
  {
   "cell_type": "code",
   "execution_count": 17,
   "metadata": {},
   "outputs": [],
   "source": [
    "def check_missing_values(df):\n",
    "    missing_values = df.isnull().sum()\n",
    "    missing_values_percentage = round(missing_values / len(df), 2) * 100\n",
    "    missing_data = pd.DataFrame(\n",
    "        {\"Missing Values\": missing_values, \"Percentage\": missing_values_percentage}\n",
    "    )\n",
    "\n",
    "    return missing_data"
   ]
  },
  {
   "cell_type": "code",
   "execution_count": 18,
   "metadata": {},
   "outputs": [
    {
     "name": "stdout",
     "output_type": "stream",
     "text": [
      "                     Missing Values  Percentage\n",
      "job_link                          0         0.0\n",
      "last_processed_time               0         0.0\n",
      "got_summary                       0         0.0\n",
      "got_ner                           0         0.0\n",
      "is_being_worked                   0         0.0\n",
      "job_title                         0         0.0\n",
      "company                           9         0.0\n",
      "job_location                     19         0.0\n",
      "first_seen                        0         0.0\n",
      "search_city                       0         0.0\n",
      "search_country                    0         0.0\n",
      "search_position                   0         0.0\n",
      "job_level                         0         0.0\n",
      "job_type                          0         0.0\n",
      "job_skills                     2085         0.0\n"
     ]
    }
   ],
   "source": [
    "print(check_missing_values(job_postings_no_duplicates))"
   ]
  },
  {
   "cell_type": "markdown",
   "metadata": {},
   "source": [
    "Fill missing values in `company`, `job_location`, and `job_skills` and drop `job_link`"
   ]
  },
  {
   "cell_type": "code",
   "execution_count": 19,
   "metadata": {},
   "outputs": [],
   "source": [
    "def fill_missing_values(df):\n",
    "    df_filled = df.copy().drop(columns=[\"job_link\"])\n",
    "\n",
    "    df_filled[\"company\"] = df_filled[\"company\"].fillna(\"Unknown\")\n",
    "    df_filled[\"job_location\"] = df_filled[\"job_location\"].fillna(\"Unknown\")\n",
    "    df_filled[\"job_skills\"] = df_filled[\"job_skills\"].fillna(\"Unknown\")\n",
    "\n",
    "    return df_filled"
   ]
  },
  {
   "cell_type": "code",
   "execution_count": 20,
   "metadata": {},
   "outputs": [],
   "source": [
    "job_postings_no_missing = fill_missing_values(job_postings_no_duplicates)"
   ]
  },
  {
   "cell_type": "code",
   "execution_count": 21,
   "metadata": {},
   "outputs": [
    {
     "name": "stdout",
     "output_type": "stream",
     "text": [
      "                     Missing Values  Percentage\n",
      "last_processed_time               0         0.0\n",
      "got_summary                       0         0.0\n",
      "got_ner                           0         0.0\n",
      "is_being_worked                   0         0.0\n",
      "job_title                         0         0.0\n",
      "company                           0         0.0\n",
      "job_location                      0         0.0\n",
      "first_seen                        0         0.0\n",
      "search_city                       0         0.0\n",
      "search_country                    0         0.0\n",
      "search_position                   0         0.0\n",
      "job_level                         0         0.0\n",
      "job_type                          0         0.0\n",
      "job_skills                        0         0.0\n"
     ]
    }
   ],
   "source": [
    "print(check_missing_values(job_postings_no_missing))"
   ]
  },
  {
   "cell_type": "markdown",
   "metadata": {},
   "source": [
    "#### Text Normalization"
   ]
  },
  {
   "cell_type": "markdown",
   "metadata": {},
   "source": [
    "- Convert text to lowercase.\n",
    "- Remove any leading or trailing whitespace.\n",
    "- Replace ampersands with 'and'\n",
    "\n",
    "These steps will introduce consistency into the data for easier handling"
   ]
  },
  {
   "cell_type": "code",
   "execution_count": 22,
   "metadata": {},
   "outputs": [],
   "source": [
    "def normalize_text(text):\n",
    "    if isinstance(text, str):\n",
    "        text = text.lower().strip()\n",
    "    return text"
   ]
  },
  {
   "cell_type": "markdown",
   "metadata": {},
   "source": [
    "Apply normalization to all the columns"
   ]
  },
  {
   "cell_type": "code",
   "execution_count": 23,
   "metadata": {},
   "outputs": [],
   "source": [
    "job_postings_normalized = job_postings_no_missing.copy()\n",
    "\n",
    "for col in job_postings_normalized.columns:\n",
    "    job_postings_normalized[col] = job_postings_normalized[col].apply(normalize_text)"
   ]
  },
  {
   "cell_type": "code",
   "execution_count": 24,
   "metadata": {},
   "outputs": [
    {
     "data": {
      "application/vnd.microsoft.datawrangler.viewer.v0+json": {
       "columns": [
        {
         "name": "index",
         "rawType": "int64",
         "type": "integer"
        },
        {
         "name": "last_processed_time",
         "rawType": "object",
         "type": "string"
        },
        {
         "name": "got_summary",
         "rawType": "object",
         "type": "string"
        },
        {
         "name": "got_ner",
         "rawType": "object",
         "type": "string"
        },
        {
         "name": "is_being_worked",
         "rawType": "object",
         "type": "string"
        },
        {
         "name": "job_title",
         "rawType": "object",
         "type": "string"
        },
        {
         "name": "company",
         "rawType": "object",
         "type": "string"
        },
        {
         "name": "job_location",
         "rawType": "object",
         "type": "string"
        },
        {
         "name": "first_seen",
         "rawType": "object",
         "type": "string"
        },
        {
         "name": "search_city",
         "rawType": "object",
         "type": "string"
        },
        {
         "name": "search_country",
         "rawType": "object",
         "type": "string"
        },
        {
         "name": "search_position",
         "rawType": "object",
         "type": "string"
        },
        {
         "name": "job_level",
         "rawType": "object",
         "type": "string"
        },
        {
         "name": "job_type",
         "rawType": "object",
         "type": "string"
        },
        {
         "name": "job_skills",
         "rawType": "object",
         "type": "string"
        }
       ],
       "conversionMethod": "pd.DataFrame",
       "ref": "b739fa55-a300-4f95-a847-b51b01e836f6",
       "rows": [
        [
         "0",
         "2024-01-21 07:12:29.00256+00",
         "t",
         "t",
         "f",
         "account executive - dispensing (norcal/northern nevada) - becton dickinson",
         "bd",
         "san diego, ca",
         "2024-01-15",
         "coronado",
         "united states",
         "color maker",
         "mid senior",
         "onsite",
         "medical equipment sales, key competitors, terminology, technology, trends, challenges, reimbursement, government regulation, bd offerings, pipeline management, opportunity planning, solution sales process, customer relationships, collaboration, negotiation, internal and external customer satisfaction, trust building, sales opportunities, new solution introduction, pharmacy, it, nursing, csuite, bachelor's degree, travel, driver's license"
        ],
        [
         "1",
         "2024-01-21 07:39:58.88137+00",
         "t",
         "t",
         "f",
         "registered nurse - rn care manager",
         "trinity health mi",
         "norton shores, mi",
         "2024-01-14",
         "grand haven",
         "united states",
         "director nursing service",
         "mid senior",
         "onsite",
         "nursing, bachelor of science in nursing, masters degree in nursing, care management experience, clinical experience in nursing, licensure to practice nursing in michigan, population management, selfmanagement, education, oversight of registries, patient education, patient selfmanagement, patient care coordination, chronic condition management, complex illness management, hospitalization avoidance, emergency room visit avoidance"
        ],
        [
         "2",
         "2024-01-21 07:40:00.251126+00",
         "t",
         "t",
         "f",
         "restaurant supervisor - the forklift",
         "wasatch adaptive sports",
         "sandy, ut",
         "2024-01-14",
         "tooele",
         "united states",
         "stand-in",
         "mid senior",
         "onsite",
         "restaurant operations management, inventory management, food and beverage ordering, profit optimization, guest service, front and back of house coordination, employee performance management, discipline and rewards management, safety and sanitation maintenance, directional flow management, daily records maintenance, profit and loss statement preparation, guest complaint handling, interpersonal skills, guest service skills, listening skills, oral communication skills, conflict management skills, dispute resolution skills, reading and writing proficiency, arithmetic skills, menu and wine list knowledge, wine knowledge, money handling proficiency, staff direction, guest issue resolution, microsoft office applications, data protection and security, pci dss compliance, privacy and confidentiality, reporting and storage of sensitive information, snowbird operations knowledge, variable work schedule, overnight stays, stress management, physical strength, tray carrying ability, standing ability, bending and kneeling ability, repetitive motions ability, professional appearance, drug and alcohol policy compliance, employee conduct policy compliance"
        ]
       ],
       "shape": {
        "columns": 14,
        "rows": 3
       }
      },
      "text/html": [
       "<div>\n",
       "<style scoped>\n",
       "    .dataframe tbody tr th:only-of-type {\n",
       "        vertical-align: middle;\n",
       "    }\n",
       "\n",
       "    .dataframe tbody tr th {\n",
       "        vertical-align: top;\n",
       "    }\n",
       "\n",
       "    .dataframe thead th {\n",
       "        text-align: right;\n",
       "    }\n",
       "</style>\n",
       "<table border=\"1\" class=\"dataframe\">\n",
       "  <thead>\n",
       "    <tr style=\"text-align: right;\">\n",
       "      <th></th>\n",
       "      <th>last_processed_time</th>\n",
       "      <th>got_summary</th>\n",
       "      <th>got_ner</th>\n",
       "      <th>is_being_worked</th>\n",
       "      <th>job_title</th>\n",
       "      <th>company</th>\n",
       "      <th>job_location</th>\n",
       "      <th>first_seen</th>\n",
       "      <th>search_city</th>\n",
       "      <th>search_country</th>\n",
       "      <th>search_position</th>\n",
       "      <th>job_level</th>\n",
       "      <th>job_type</th>\n",
       "      <th>job_skills</th>\n",
       "    </tr>\n",
       "  </thead>\n",
       "  <tbody>\n",
       "    <tr>\n",
       "      <th>0</th>\n",
       "      <td>2024-01-21 07:12:29.00256+00</td>\n",
       "      <td>t</td>\n",
       "      <td>t</td>\n",
       "      <td>f</td>\n",
       "      <td>account executive - dispensing (norcal/norther...</td>\n",
       "      <td>bd</td>\n",
       "      <td>san diego, ca</td>\n",
       "      <td>2024-01-15</td>\n",
       "      <td>coronado</td>\n",
       "      <td>united states</td>\n",
       "      <td>color maker</td>\n",
       "      <td>mid senior</td>\n",
       "      <td>onsite</td>\n",
       "      <td>medical equipment sales, key competitors, term...</td>\n",
       "    </tr>\n",
       "    <tr>\n",
       "      <th>1</th>\n",
       "      <td>2024-01-21 07:39:58.88137+00</td>\n",
       "      <td>t</td>\n",
       "      <td>t</td>\n",
       "      <td>f</td>\n",
       "      <td>registered nurse - rn care manager</td>\n",
       "      <td>trinity health mi</td>\n",
       "      <td>norton shores, mi</td>\n",
       "      <td>2024-01-14</td>\n",
       "      <td>grand haven</td>\n",
       "      <td>united states</td>\n",
       "      <td>director nursing service</td>\n",
       "      <td>mid senior</td>\n",
       "      <td>onsite</td>\n",
       "      <td>nursing, bachelor of science in nursing, maste...</td>\n",
       "    </tr>\n",
       "    <tr>\n",
       "      <th>2</th>\n",
       "      <td>2024-01-21 07:40:00.251126+00</td>\n",
       "      <td>t</td>\n",
       "      <td>t</td>\n",
       "      <td>f</td>\n",
       "      <td>restaurant supervisor - the forklift</td>\n",
       "      <td>wasatch adaptive sports</td>\n",
       "      <td>sandy, ut</td>\n",
       "      <td>2024-01-14</td>\n",
       "      <td>tooele</td>\n",
       "      <td>united states</td>\n",
       "      <td>stand-in</td>\n",
       "      <td>mid senior</td>\n",
       "      <td>onsite</td>\n",
       "      <td>restaurant operations management, inventory ma...</td>\n",
       "    </tr>\n",
       "  </tbody>\n",
       "</table>\n",
       "</div>"
      ],
      "text/plain": [
       "             last_processed_time got_summary got_ner is_being_worked  \\\n",
       "0   2024-01-21 07:12:29.00256+00           t       t               f   \n",
       "1   2024-01-21 07:39:58.88137+00           t       t               f   \n",
       "2  2024-01-21 07:40:00.251126+00           t       t               f   \n",
       "\n",
       "                                           job_title                  company  \\\n",
       "0  account executive - dispensing (norcal/norther...                       bd   \n",
       "1                 registered nurse - rn care manager        trinity health mi   \n",
       "2               restaurant supervisor - the forklift  wasatch adaptive sports   \n",
       "\n",
       "        job_location  first_seen  search_city search_country  \\\n",
       "0      san diego, ca  2024-01-15     coronado  united states   \n",
       "1  norton shores, mi  2024-01-14  grand haven  united states   \n",
       "2          sandy, ut  2024-01-14       tooele  united states   \n",
       "\n",
       "            search_position   job_level job_type  \\\n",
       "0               color maker  mid senior   onsite   \n",
       "1  director nursing service  mid senior   onsite   \n",
       "2                  stand-in  mid senior   onsite   \n",
       "\n",
       "                                          job_skills  \n",
       "0  medical equipment sales, key competitors, term...  \n",
       "1  nursing, bachelor of science in nursing, maste...  \n",
       "2  restaurant operations management, inventory ma...  "
      ]
     },
     "execution_count": 24,
     "metadata": {},
     "output_type": "execute_result"
    }
   ],
   "source": [
    "job_postings_normalized.head(3)"
   ]
  },
  {
   "cell_type": "code",
   "execution_count": 25,
   "metadata": {},
   "outputs": [
    {
     "name": "stdout",
     "output_type": "stream",
     "text": [
      "Total number of jobs: 1,296,381\n"
     ]
    }
   ],
   "source": [
    "total_jobs = job_postings_normalized.shape[0]\n",
    "print(f\"Total number of jobs: {total_jobs:,}\")"
   ]
  },
  {
   "cell_type": "markdown",
   "metadata": {},
   "source": [
    "## Feature Engineering"
   ]
  },
  {
   "cell_type": "markdown",
   "metadata": {},
   "source": [
    "- Split the skills into a list\n",
    "- Filter out 2-letter words and unwanted specific words like 'is', 'it', 'am'"
   ]
  },
  {
   "cell_type": "code",
   "execution_count": 26,
   "metadata": {},
   "outputs": [],
   "source": [
    "def extract_skills(row):\n",
    "    skills = row[\"job_skills\"].split(\", \")\n",
    "    # TODO: Remove empty strings for now to preserve keywords like AI, ML, etc.\n",
    "    skills = [skill for skill in skills if len(skill) >= 1]\n",
    "\n",
    "    return skills"
   ]
  },
  {
   "cell_type": "code",
   "execution_count": 27,
   "metadata": {},
   "outputs": [],
   "source": [
    "job_postings_normalized['skills'] = job_postings_normalized.apply(extract_skills, axis=1)\n",
    "job_postings_normalized['skills_count'] = job_postings_normalized['skills'].apply(len)"
   ]
  },
  {
   "cell_type": "markdown",
   "metadata": {},
   "source": [
    "Update the `job_skills` column"
   ]
  },
  {
   "cell_type": "code",
   "execution_count": 28,
   "metadata": {},
   "outputs": [],
   "source": [
    "job_postings_normalized.drop(['job_skills'], axis=1, inplace=True)\n",
    "job_postings_normalized = job_postings_normalized.rename(columns={'skills': 'job_skills'})"
   ]
  },
  {
   "cell_type": "code",
   "execution_count": 29,
   "metadata": {},
   "outputs": [
    {
     "data": {
      "application/vnd.microsoft.datawrangler.viewer.v0+json": {
       "columns": [
        {
         "name": "index",
         "rawType": "int64",
         "type": "integer"
        },
        {
         "name": "last_processed_time",
         "rawType": "object",
         "type": "string"
        },
        {
         "name": "got_summary",
         "rawType": "object",
         "type": "string"
        },
        {
         "name": "got_ner",
         "rawType": "object",
         "type": "string"
        },
        {
         "name": "is_being_worked",
         "rawType": "object",
         "type": "string"
        },
        {
         "name": "job_title",
         "rawType": "object",
         "type": "string"
        },
        {
         "name": "company",
         "rawType": "object",
         "type": "string"
        },
        {
         "name": "job_location",
         "rawType": "object",
         "type": "string"
        },
        {
         "name": "first_seen",
         "rawType": "object",
         "type": "string"
        },
        {
         "name": "search_city",
         "rawType": "object",
         "type": "string"
        },
        {
         "name": "search_country",
         "rawType": "object",
         "type": "string"
        },
        {
         "name": "search_position",
         "rawType": "object",
         "type": "string"
        },
        {
         "name": "job_level",
         "rawType": "object",
         "type": "string"
        },
        {
         "name": "job_type",
         "rawType": "object",
         "type": "string"
        },
        {
         "name": "job_skills",
         "rawType": "object",
         "type": "unknown"
        },
        {
         "name": "skills_count",
         "rawType": "int64",
         "type": "integer"
        }
       ],
       "conversionMethod": "pd.DataFrame",
       "ref": "2acfd495-6889-49b8-9f38-42a270abf520",
       "rows": [
        [
         "0",
         "2024-01-21 07:12:29.00256+00",
         "t",
         "t",
         "f",
         "account executive - dispensing (norcal/northern nevada) - becton dickinson",
         "bd",
         "san diego, ca",
         "2024-01-15",
         "coronado",
         "united states",
         "color maker",
         "mid senior",
         "onsite",
         "['medical equipment sales', 'key competitors', 'terminology', 'technology', 'trends', 'challenges', 'reimbursement', 'government regulation', 'bd offerings', 'pipeline management', 'opportunity planning', 'solution sales process', 'customer relationships', 'collaboration', 'negotiation', 'internal and external customer satisfaction', 'trust building', 'sales opportunities', 'new solution introduction', 'pharmacy', 'it', 'nursing', 'csuite', \"bachelor's degree\", 'travel', \"driver's license\"]",
         "26"
        ],
        [
         "1",
         "2024-01-21 07:39:58.88137+00",
         "t",
         "t",
         "f",
         "registered nurse - rn care manager",
         "trinity health mi",
         "norton shores, mi",
         "2024-01-14",
         "grand haven",
         "united states",
         "director nursing service",
         "mid senior",
         "onsite",
         "['nursing', 'bachelor of science in nursing', 'masters degree in nursing', 'care management experience', 'clinical experience in nursing', 'licensure to practice nursing in michigan', 'population management', 'selfmanagement', 'education', 'oversight of registries', 'patient education', 'patient selfmanagement', 'patient care coordination', 'chronic condition management', 'complex illness management', 'hospitalization avoidance', 'emergency room visit avoidance']",
         "17"
        ],
        [
         "2",
         "2024-01-21 07:40:00.251126+00",
         "t",
         "t",
         "f",
         "restaurant supervisor - the forklift",
         "wasatch adaptive sports",
         "sandy, ut",
         "2024-01-14",
         "tooele",
         "united states",
         "stand-in",
         "mid senior",
         "onsite",
         "['restaurant operations management', 'inventory management', 'food and beverage ordering', 'profit optimization', 'guest service', 'front and back of house coordination', 'employee performance management', 'discipline and rewards management', 'safety and sanitation maintenance', 'directional flow management', 'daily records maintenance', 'profit and loss statement preparation', 'guest complaint handling', 'interpersonal skills', 'guest service skills', 'listening skills', 'oral communication skills', 'conflict management skills', 'dispute resolution skills', 'reading and writing proficiency', 'arithmetic skills', 'menu and wine list knowledge', 'wine knowledge', 'money handling proficiency', 'staff direction', 'guest issue resolution', 'microsoft office applications', 'data protection and security', 'pci dss compliance', 'privacy and confidentiality', 'reporting and storage of sensitive information', 'snowbird operations knowledge', 'variable work schedule', 'overnight stays', 'stress management', 'physical strength', 'tray carrying ability', 'standing ability', 'bending and kneeling ability', 'repetitive motions ability', 'professional appearance', 'drug and alcohol policy compliance', 'employee conduct policy compliance']",
         "43"
        ]
       ],
       "shape": {
        "columns": 15,
        "rows": 3
       }
      },
      "text/html": [
       "<div>\n",
       "<style scoped>\n",
       "    .dataframe tbody tr th:only-of-type {\n",
       "        vertical-align: middle;\n",
       "    }\n",
       "\n",
       "    .dataframe tbody tr th {\n",
       "        vertical-align: top;\n",
       "    }\n",
       "\n",
       "    .dataframe thead th {\n",
       "        text-align: right;\n",
       "    }\n",
       "</style>\n",
       "<table border=\"1\" class=\"dataframe\">\n",
       "  <thead>\n",
       "    <tr style=\"text-align: right;\">\n",
       "      <th></th>\n",
       "      <th>last_processed_time</th>\n",
       "      <th>got_summary</th>\n",
       "      <th>got_ner</th>\n",
       "      <th>is_being_worked</th>\n",
       "      <th>job_title</th>\n",
       "      <th>company</th>\n",
       "      <th>job_location</th>\n",
       "      <th>first_seen</th>\n",
       "      <th>search_city</th>\n",
       "      <th>search_country</th>\n",
       "      <th>search_position</th>\n",
       "      <th>job_level</th>\n",
       "      <th>job_type</th>\n",
       "      <th>job_skills</th>\n",
       "      <th>skills_count</th>\n",
       "    </tr>\n",
       "  </thead>\n",
       "  <tbody>\n",
       "    <tr>\n",
       "      <th>0</th>\n",
       "      <td>2024-01-21 07:12:29.00256+00</td>\n",
       "      <td>t</td>\n",
       "      <td>t</td>\n",
       "      <td>f</td>\n",
       "      <td>account executive - dispensing (norcal/norther...</td>\n",
       "      <td>bd</td>\n",
       "      <td>san diego, ca</td>\n",
       "      <td>2024-01-15</td>\n",
       "      <td>coronado</td>\n",
       "      <td>united states</td>\n",
       "      <td>color maker</td>\n",
       "      <td>mid senior</td>\n",
       "      <td>onsite</td>\n",
       "      <td>[medical equipment sales, key competitors, ter...</td>\n",
       "      <td>26</td>\n",
       "    </tr>\n",
       "    <tr>\n",
       "      <th>1</th>\n",
       "      <td>2024-01-21 07:39:58.88137+00</td>\n",
       "      <td>t</td>\n",
       "      <td>t</td>\n",
       "      <td>f</td>\n",
       "      <td>registered nurse - rn care manager</td>\n",
       "      <td>trinity health mi</td>\n",
       "      <td>norton shores, mi</td>\n",
       "      <td>2024-01-14</td>\n",
       "      <td>grand haven</td>\n",
       "      <td>united states</td>\n",
       "      <td>director nursing service</td>\n",
       "      <td>mid senior</td>\n",
       "      <td>onsite</td>\n",
       "      <td>[nursing, bachelor of science in nursing, mast...</td>\n",
       "      <td>17</td>\n",
       "    </tr>\n",
       "    <tr>\n",
       "      <th>2</th>\n",
       "      <td>2024-01-21 07:40:00.251126+00</td>\n",
       "      <td>t</td>\n",
       "      <td>t</td>\n",
       "      <td>f</td>\n",
       "      <td>restaurant supervisor - the forklift</td>\n",
       "      <td>wasatch adaptive sports</td>\n",
       "      <td>sandy, ut</td>\n",
       "      <td>2024-01-14</td>\n",
       "      <td>tooele</td>\n",
       "      <td>united states</td>\n",
       "      <td>stand-in</td>\n",
       "      <td>mid senior</td>\n",
       "      <td>onsite</td>\n",
       "      <td>[restaurant operations management, inventory m...</td>\n",
       "      <td>43</td>\n",
       "    </tr>\n",
       "  </tbody>\n",
       "</table>\n",
       "</div>"
      ],
      "text/plain": [
       "             last_processed_time got_summary got_ner is_being_worked  \\\n",
       "0   2024-01-21 07:12:29.00256+00           t       t               f   \n",
       "1   2024-01-21 07:39:58.88137+00           t       t               f   \n",
       "2  2024-01-21 07:40:00.251126+00           t       t               f   \n",
       "\n",
       "                                           job_title                  company  \\\n",
       "0  account executive - dispensing (norcal/norther...                       bd   \n",
       "1                 registered nurse - rn care manager        trinity health mi   \n",
       "2               restaurant supervisor - the forklift  wasatch adaptive sports   \n",
       "\n",
       "        job_location  first_seen  search_city search_country  \\\n",
       "0      san diego, ca  2024-01-15     coronado  united states   \n",
       "1  norton shores, mi  2024-01-14  grand haven  united states   \n",
       "2          sandy, ut  2024-01-14       tooele  united states   \n",
       "\n",
       "            search_position   job_level job_type  \\\n",
       "0               color maker  mid senior   onsite   \n",
       "1  director nursing service  mid senior   onsite   \n",
       "2                  stand-in  mid senior   onsite   \n",
       "\n",
       "                                          job_skills  skills_count  \n",
       "0  [medical equipment sales, key competitors, ter...            26  \n",
       "1  [nursing, bachelor of science in nursing, mast...            17  \n",
       "2  [restaurant operations management, inventory m...            43  "
      ]
     },
     "execution_count": 29,
     "metadata": {},
     "output_type": "execute_result"
    }
   ],
   "source": [
    "job_postings_normalized.head(3)"
   ]
  },
  {
   "cell_type": "markdown",
   "metadata": {},
   "source": [
    "- Changing the ‘search_country’ column into categories.\n",
    "- This will make the Dataframe work faster and use less memory.\n"
   ]
  },
  {
   "cell_type": "code",
   "execution_count": 30,
   "metadata": {},
   "outputs": [
    {
     "data": {
      "text/plain": [
       "Index(['australia', 'canada', 'united kingdom', 'united states'], dtype='object')"
      ]
     },
     "execution_count": 30,
     "metadata": {},
     "output_type": "execute_result"
    }
   ],
   "source": [
    "job_postings_normalized['search_country'] = job_postings_normalized['search_country'].astype('category')\n",
    "job_postings_normalized['search_country'].cat.categories"
   ]
  },
  {
   "cell_type": "markdown",
   "metadata": {},
   "source": [
    "Save as parquet for further analysys"
   ]
  },
  {
   "cell_type": "code",
   "execution_count": 31,
   "metadata": {},
   "outputs": [
    {
     "name": "stdout",
     "output_type": "stream",
     "text": [
      "1,296,381 jobs saved to data/a_job_postings_normalized.parquet\n"
     ]
    }
   ],
   "source": [
    "try:\n",
    "    filename=\"data/a_job_postings_normalized\"\n",
    "    job_postings_normalized.to_parquet(f\"{filename}.parquet\")\n",
    "    print(f\"{job_postings_normalized.shape[0]:,} jobs saved to {filename}.parquet\")\n",
    "except Exception as e:\n",
    "    print(f\"Error saving DataFrame: {e}\")"
   ]
  }
 ],
 "metadata": {
  "kernelspec": {
   "display_name": "ai_job_trends",
   "language": "python",
   "name": "python3"
  },
  "language_info": {
   "codemirror_mode": {
    "name": "ipython",
    "version": 3
   },
   "file_extension": ".py",
   "mimetype": "text/x-python",
   "name": "python",
   "nbconvert_exporter": "python",
   "pygments_lexer": "ipython3",
   "version": "3.11.11"
  }
 },
 "nbformat": 4,
 "nbformat_minor": 2
}
